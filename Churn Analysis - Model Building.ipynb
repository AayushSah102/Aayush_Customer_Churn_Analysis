{
 "cells": [
  {
   "cell_type": "markdown",
   "metadata": {},
   "source": [
    "### Importing Libraries"
   ]
  },
  {
   "cell_type": "code",
   "execution_count": 1,
   "metadata": {},
   "outputs": [],
   "source": [
    "import pandas as pd\n",
    "from sklearn import metrics\n",
    "from sklearn.model_selection import train_test_split\n",
    "from sklearn.metrics import recall_score\n",
    "from sklearn.metrics import classification_report\n",
    "from sklearn.metrics import confusion_matrix\n",
    "from sklearn.tree import DecisionTreeClassifier\n",
    "from imblearn.combine import SMOTEENN"
   ]
  },
  {
   "cell_type": "markdown",
   "metadata": {},
   "source": [
    "#### Reading csv"
   ]
  },
  {
   "cell_type": "code",
   "execution_count": 2,
   "metadata": {},
   "outputs": [
    {
     "data": {
      "text/html": [
       "<div>\n",
       "<style scoped>\n",
       "    .dataframe tbody tr th:only-of-type {\n",
       "        vertical-align: middle;\n",
       "    }\n",
       "\n",
       "    .dataframe tbody tr th {\n",
       "        vertical-align: top;\n",
       "    }\n",
       "\n",
       "    .dataframe thead th {\n",
       "        text-align: right;\n",
       "    }\n",
       "</style>\n",
       "<table border=\"1\" class=\"dataframe\">\n",
       "  <thead>\n",
       "    <tr style=\"text-align: right;\">\n",
       "      <th></th>\n",
       "      <th>Unnamed: 0</th>\n",
       "      <th>SeniorCitizen</th>\n",
       "      <th>MonthlyCharges</th>\n",
       "      <th>TotalCharges</th>\n",
       "      <th>Churn</th>\n",
       "      <th>gender_Female</th>\n",
       "      <th>gender_Male</th>\n",
       "      <th>Partner_No</th>\n",
       "      <th>Partner_Yes</th>\n",
       "      <th>Dependents_No</th>\n",
       "      <th>...</th>\n",
       "      <th>PaymentMethod_Bank transfer (automatic)</th>\n",
       "      <th>PaymentMethod_Credit card (automatic)</th>\n",
       "      <th>PaymentMethod_Electronic check</th>\n",
       "      <th>PaymentMethod_Mailed check</th>\n",
       "      <th>tenure_group_1 - 12</th>\n",
       "      <th>tenure_group_13 - 24</th>\n",
       "      <th>tenure_group_25 - 36</th>\n",
       "      <th>tenure_group_37 - 48</th>\n",
       "      <th>tenure_group_49 - 60</th>\n",
       "      <th>tenure_group_61 - 72</th>\n",
       "    </tr>\n",
       "  </thead>\n",
       "  <tbody>\n",
       "    <tr>\n",
       "      <th>0</th>\n",
       "      <td>0</td>\n",
       "      <td>0</td>\n",
       "      <td>29</td>\n",
       "      <td>29</td>\n",
       "      <td>0</td>\n",
       "      <td>1</td>\n",
       "      <td>0</td>\n",
       "      <td>0</td>\n",
       "      <td>1</td>\n",
       "      <td>1</td>\n",
       "      <td>...</td>\n",
       "      <td>0</td>\n",
       "      <td>0</td>\n",
       "      <td>1</td>\n",
       "      <td>0</td>\n",
       "      <td>1</td>\n",
       "      <td>0</td>\n",
       "      <td>0</td>\n",
       "      <td>0</td>\n",
       "      <td>0</td>\n",
       "      <td>0</td>\n",
       "    </tr>\n",
       "    <tr>\n",
       "      <th>1</th>\n",
       "      <td>1</td>\n",
       "      <td>0</td>\n",
       "      <td>56</td>\n",
       "      <td>1889</td>\n",
       "      <td>0</td>\n",
       "      <td>0</td>\n",
       "      <td>1</td>\n",
       "      <td>1</td>\n",
       "      <td>0</td>\n",
       "      <td>1</td>\n",
       "      <td>...</td>\n",
       "      <td>0</td>\n",
       "      <td>0</td>\n",
       "      <td>0</td>\n",
       "      <td>1</td>\n",
       "      <td>0</td>\n",
       "      <td>0</td>\n",
       "      <td>1</td>\n",
       "      <td>0</td>\n",
       "      <td>0</td>\n",
       "      <td>0</td>\n",
       "    </tr>\n",
       "    <tr>\n",
       "      <th>2</th>\n",
       "      <td>2</td>\n",
       "      <td>0</td>\n",
       "      <td>53</td>\n",
       "      <td>108</td>\n",
       "      <td>1</td>\n",
       "      <td>0</td>\n",
       "      <td>1</td>\n",
       "      <td>1</td>\n",
       "      <td>0</td>\n",
       "      <td>1</td>\n",
       "      <td>...</td>\n",
       "      <td>0</td>\n",
       "      <td>0</td>\n",
       "      <td>0</td>\n",
       "      <td>1</td>\n",
       "      <td>1</td>\n",
       "      <td>0</td>\n",
       "      <td>0</td>\n",
       "      <td>0</td>\n",
       "      <td>0</td>\n",
       "      <td>0</td>\n",
       "    </tr>\n",
       "    <tr>\n",
       "      <th>3</th>\n",
       "      <td>3</td>\n",
       "      <td>0</td>\n",
       "      <td>42</td>\n",
       "      <td>1840</td>\n",
       "      <td>0</td>\n",
       "      <td>0</td>\n",
       "      <td>1</td>\n",
       "      <td>1</td>\n",
       "      <td>0</td>\n",
       "      <td>1</td>\n",
       "      <td>...</td>\n",
       "      <td>1</td>\n",
       "      <td>0</td>\n",
       "      <td>0</td>\n",
       "      <td>0</td>\n",
       "      <td>0</td>\n",
       "      <td>0</td>\n",
       "      <td>0</td>\n",
       "      <td>1</td>\n",
       "      <td>0</td>\n",
       "      <td>0</td>\n",
       "    </tr>\n",
       "    <tr>\n",
       "      <th>4</th>\n",
       "      <td>4</td>\n",
       "      <td>0</td>\n",
       "      <td>70</td>\n",
       "      <td>151</td>\n",
       "      <td>1</td>\n",
       "      <td>1</td>\n",
       "      <td>0</td>\n",
       "      <td>1</td>\n",
       "      <td>0</td>\n",
       "      <td>1</td>\n",
       "      <td>...</td>\n",
       "      <td>0</td>\n",
       "      <td>0</td>\n",
       "      <td>1</td>\n",
       "      <td>0</td>\n",
       "      <td>1</td>\n",
       "      <td>0</td>\n",
       "      <td>0</td>\n",
       "      <td>0</td>\n",
       "      <td>0</td>\n",
       "      <td>0</td>\n",
       "    </tr>\n",
       "  </tbody>\n",
       "</table>\n",
       "<p>5 rows × 52 columns</p>\n",
       "</div>"
      ],
      "text/plain": [
       "   Unnamed: 0  SeniorCitizen  MonthlyCharges  TotalCharges  Churn  \\\n",
       "0           0              0              29            29      0   \n",
       "1           1              0              56          1889      0   \n",
       "2           2              0              53           108      1   \n",
       "3           3              0              42          1840      0   \n",
       "4           4              0              70           151      1   \n",
       "\n",
       "   gender_Female  gender_Male  Partner_No  Partner_Yes  Dependents_No  ...  \\\n",
       "0              1            0           0            1              1  ...   \n",
       "1              0            1           1            0              1  ...   \n",
       "2              0            1           1            0              1  ...   \n",
       "3              0            1           1            0              1  ...   \n",
       "4              1            0           1            0              1  ...   \n",
       "\n",
       "   PaymentMethod_Bank transfer (automatic)  \\\n",
       "0                                        0   \n",
       "1                                        0   \n",
       "2                                        0   \n",
       "3                                        1   \n",
       "4                                        0   \n",
       "\n",
       "   PaymentMethod_Credit card (automatic)  PaymentMethod_Electronic check  \\\n",
       "0                                      0                               1   \n",
       "1                                      0                               0   \n",
       "2                                      0                               0   \n",
       "3                                      0                               0   \n",
       "4                                      0                               1   \n",
       "\n",
       "   PaymentMethod_Mailed check  tenure_group_1 - 12  tenure_group_13 - 24  \\\n",
       "0                           0                    1                     0   \n",
       "1                           1                    0                     0   \n",
       "2                           1                    1                     0   \n",
       "3                           0                    0                     0   \n",
       "4                           0                    1                     0   \n",
       "\n",
       "   tenure_group_25 - 36  tenure_group_37 - 48  tenure_group_49 - 60  \\\n",
       "0                     0                     0                     0   \n",
       "1                     1                     0                     0   \n",
       "2                     0                     0                     0   \n",
       "3                     0                     1                     0   \n",
       "4                     0                     0                     0   \n",
       "\n",
       "   tenure_group_61 - 72  \n",
       "0                     0  \n",
       "1                     0  \n",
       "2                     0  \n",
       "3                     0  \n",
       "4                     0  \n",
       "\n",
       "[5 rows x 52 columns]"
      ]
     },
     "execution_count": 2,
     "metadata": {},
     "output_type": "execute_result"
    }
   ],
   "source": [
    "df=pd.read_csv(\"tel_churn.csv\")\n",
    "df.head()"
   ]
  },
  {
   "cell_type": "code",
   "execution_count": 3,
   "metadata": {},
   "outputs": [],
   "source": [
    "df=df.drop('Unnamed: 0',axis=1)"
   ]
  },
  {
   "cell_type": "code",
   "execution_count": 4,
   "metadata": {},
   "outputs": [
    {
     "data": {
      "text/html": [
       "<div>\n",
       "<style scoped>\n",
       "    .dataframe tbody tr th:only-of-type {\n",
       "        vertical-align: middle;\n",
       "    }\n",
       "\n",
       "    .dataframe tbody tr th {\n",
       "        vertical-align: top;\n",
       "    }\n",
       "\n",
       "    .dataframe thead th {\n",
       "        text-align: right;\n",
       "    }\n",
       "</style>\n",
       "<table border=\"1\" class=\"dataframe\">\n",
       "  <thead>\n",
       "    <tr style=\"text-align: right;\">\n",
       "      <th></th>\n",
       "      <th>SeniorCitizen</th>\n",
       "      <th>MonthlyCharges</th>\n",
       "      <th>TotalCharges</th>\n",
       "      <th>gender_Female</th>\n",
       "      <th>gender_Male</th>\n",
       "      <th>Partner_No</th>\n",
       "      <th>Partner_Yes</th>\n",
       "      <th>Dependents_No</th>\n",
       "      <th>Dependents_Yes</th>\n",
       "      <th>PhoneService_No</th>\n",
       "      <th>...</th>\n",
       "      <th>PaymentMethod_Bank transfer (automatic)</th>\n",
       "      <th>PaymentMethod_Credit card (automatic)</th>\n",
       "      <th>PaymentMethod_Electronic check</th>\n",
       "      <th>PaymentMethod_Mailed check</th>\n",
       "      <th>tenure_group_1 - 12</th>\n",
       "      <th>tenure_group_13 - 24</th>\n",
       "      <th>tenure_group_25 - 36</th>\n",
       "      <th>tenure_group_37 - 48</th>\n",
       "      <th>tenure_group_49 - 60</th>\n",
       "      <th>tenure_group_61 - 72</th>\n",
       "    </tr>\n",
       "  </thead>\n",
       "  <tbody>\n",
       "    <tr>\n",
       "      <th>0</th>\n",
       "      <td>0</td>\n",
       "      <td>29</td>\n",
       "      <td>29</td>\n",
       "      <td>1</td>\n",
       "      <td>0</td>\n",
       "      <td>0</td>\n",
       "      <td>1</td>\n",
       "      <td>1</td>\n",
       "      <td>0</td>\n",
       "      <td>1</td>\n",
       "      <td>...</td>\n",
       "      <td>0</td>\n",
       "      <td>0</td>\n",
       "      <td>1</td>\n",
       "      <td>0</td>\n",
       "      <td>1</td>\n",
       "      <td>0</td>\n",
       "      <td>0</td>\n",
       "      <td>0</td>\n",
       "      <td>0</td>\n",
       "      <td>0</td>\n",
       "    </tr>\n",
       "    <tr>\n",
       "      <th>1</th>\n",
       "      <td>0</td>\n",
       "      <td>56</td>\n",
       "      <td>1889</td>\n",
       "      <td>0</td>\n",
       "      <td>1</td>\n",
       "      <td>1</td>\n",
       "      <td>0</td>\n",
       "      <td>1</td>\n",
       "      <td>0</td>\n",
       "      <td>0</td>\n",
       "      <td>...</td>\n",
       "      <td>0</td>\n",
       "      <td>0</td>\n",
       "      <td>0</td>\n",
       "      <td>1</td>\n",
       "      <td>0</td>\n",
       "      <td>0</td>\n",
       "      <td>1</td>\n",
       "      <td>0</td>\n",
       "      <td>0</td>\n",
       "      <td>0</td>\n",
       "    </tr>\n",
       "    <tr>\n",
       "      <th>2</th>\n",
       "      <td>0</td>\n",
       "      <td>53</td>\n",
       "      <td>108</td>\n",
       "      <td>0</td>\n",
       "      <td>1</td>\n",
       "      <td>1</td>\n",
       "      <td>0</td>\n",
       "      <td>1</td>\n",
       "      <td>0</td>\n",
       "      <td>0</td>\n",
       "      <td>...</td>\n",
       "      <td>0</td>\n",
       "      <td>0</td>\n",
       "      <td>0</td>\n",
       "      <td>1</td>\n",
       "      <td>1</td>\n",
       "      <td>0</td>\n",
       "      <td>0</td>\n",
       "      <td>0</td>\n",
       "      <td>0</td>\n",
       "      <td>0</td>\n",
       "    </tr>\n",
       "    <tr>\n",
       "      <th>3</th>\n",
       "      <td>0</td>\n",
       "      <td>42</td>\n",
       "      <td>1840</td>\n",
       "      <td>0</td>\n",
       "      <td>1</td>\n",
       "      <td>1</td>\n",
       "      <td>0</td>\n",
       "      <td>1</td>\n",
       "      <td>0</td>\n",
       "      <td>1</td>\n",
       "      <td>...</td>\n",
       "      <td>1</td>\n",
       "      <td>0</td>\n",
       "      <td>0</td>\n",
       "      <td>0</td>\n",
       "      <td>0</td>\n",
       "      <td>0</td>\n",
       "      <td>0</td>\n",
       "      <td>1</td>\n",
       "      <td>0</td>\n",
       "      <td>0</td>\n",
       "    </tr>\n",
       "    <tr>\n",
       "      <th>4</th>\n",
       "      <td>0</td>\n",
       "      <td>70</td>\n",
       "      <td>151</td>\n",
       "      <td>1</td>\n",
       "      <td>0</td>\n",
       "      <td>1</td>\n",
       "      <td>0</td>\n",
       "      <td>1</td>\n",
       "      <td>0</td>\n",
       "      <td>0</td>\n",
       "      <td>...</td>\n",
       "      <td>0</td>\n",
       "      <td>0</td>\n",
       "      <td>1</td>\n",
       "      <td>0</td>\n",
       "      <td>1</td>\n",
       "      <td>0</td>\n",
       "      <td>0</td>\n",
       "      <td>0</td>\n",
       "      <td>0</td>\n",
       "      <td>0</td>\n",
       "    </tr>\n",
       "    <tr>\n",
       "      <th>...</th>\n",
       "      <td>...</td>\n",
       "      <td>...</td>\n",
       "      <td>...</td>\n",
       "      <td>...</td>\n",
       "      <td>...</td>\n",
       "      <td>...</td>\n",
       "      <td>...</td>\n",
       "      <td>...</td>\n",
       "      <td>...</td>\n",
       "      <td>...</td>\n",
       "      <td>...</td>\n",
       "      <td>...</td>\n",
       "      <td>...</td>\n",
       "      <td>...</td>\n",
       "      <td>...</td>\n",
       "      <td>...</td>\n",
       "      <td>...</td>\n",
       "      <td>...</td>\n",
       "      <td>...</td>\n",
       "      <td>...</td>\n",
       "      <td>...</td>\n",
       "    </tr>\n",
       "    <tr>\n",
       "      <th>7027</th>\n",
       "      <td>0</td>\n",
       "      <td>84</td>\n",
       "      <td>1990</td>\n",
       "      <td>0</td>\n",
       "      <td>1</td>\n",
       "      <td>0</td>\n",
       "      <td>1</td>\n",
       "      <td>0</td>\n",
       "      <td>1</td>\n",
       "      <td>0</td>\n",
       "      <td>...</td>\n",
       "      <td>0</td>\n",
       "      <td>0</td>\n",
       "      <td>0</td>\n",
       "      <td>1</td>\n",
       "      <td>0</td>\n",
       "      <td>1</td>\n",
       "      <td>0</td>\n",
       "      <td>0</td>\n",
       "      <td>0</td>\n",
       "      <td>0</td>\n",
       "    </tr>\n",
       "    <tr>\n",
       "      <th>7028</th>\n",
       "      <td>0</td>\n",
       "      <td>103</td>\n",
       "      <td>7362</td>\n",
       "      <td>1</td>\n",
       "      <td>0</td>\n",
       "      <td>0</td>\n",
       "      <td>1</td>\n",
       "      <td>0</td>\n",
       "      <td>1</td>\n",
       "      <td>0</td>\n",
       "      <td>...</td>\n",
       "      <td>0</td>\n",
       "      <td>1</td>\n",
       "      <td>0</td>\n",
       "      <td>0</td>\n",
       "      <td>0</td>\n",
       "      <td>0</td>\n",
       "      <td>0</td>\n",
       "      <td>0</td>\n",
       "      <td>0</td>\n",
       "      <td>1</td>\n",
       "    </tr>\n",
       "    <tr>\n",
       "      <th>7029</th>\n",
       "      <td>0</td>\n",
       "      <td>29</td>\n",
       "      <td>346</td>\n",
       "      <td>1</td>\n",
       "      <td>0</td>\n",
       "      <td>0</td>\n",
       "      <td>1</td>\n",
       "      <td>0</td>\n",
       "      <td>1</td>\n",
       "      <td>1</td>\n",
       "      <td>...</td>\n",
       "      <td>0</td>\n",
       "      <td>0</td>\n",
       "      <td>1</td>\n",
       "      <td>0</td>\n",
       "      <td>1</td>\n",
       "      <td>0</td>\n",
       "      <td>0</td>\n",
       "      <td>0</td>\n",
       "      <td>0</td>\n",
       "      <td>0</td>\n",
       "    </tr>\n",
       "    <tr>\n",
       "      <th>7030</th>\n",
       "      <td>1</td>\n",
       "      <td>74</td>\n",
       "      <td>306</td>\n",
       "      <td>0</td>\n",
       "      <td>1</td>\n",
       "      <td>0</td>\n",
       "      <td>1</td>\n",
       "      <td>1</td>\n",
       "      <td>0</td>\n",
       "      <td>0</td>\n",
       "      <td>...</td>\n",
       "      <td>0</td>\n",
       "      <td>0</td>\n",
       "      <td>0</td>\n",
       "      <td>1</td>\n",
       "      <td>1</td>\n",
       "      <td>0</td>\n",
       "      <td>0</td>\n",
       "      <td>0</td>\n",
       "      <td>0</td>\n",
       "      <td>0</td>\n",
       "    </tr>\n",
       "    <tr>\n",
       "      <th>7031</th>\n",
       "      <td>0</td>\n",
       "      <td>105</td>\n",
       "      <td>6844</td>\n",
       "      <td>0</td>\n",
       "      <td>1</td>\n",
       "      <td>1</td>\n",
       "      <td>0</td>\n",
       "      <td>1</td>\n",
       "      <td>0</td>\n",
       "      <td>0</td>\n",
       "      <td>...</td>\n",
       "      <td>1</td>\n",
       "      <td>0</td>\n",
       "      <td>0</td>\n",
       "      <td>0</td>\n",
       "      <td>0</td>\n",
       "      <td>0</td>\n",
       "      <td>0</td>\n",
       "      <td>0</td>\n",
       "      <td>0</td>\n",
       "      <td>1</td>\n",
       "    </tr>\n",
       "  </tbody>\n",
       "</table>\n",
       "<p>7032 rows × 50 columns</p>\n",
       "</div>"
      ],
      "text/plain": [
       "      SeniorCitizen  MonthlyCharges  TotalCharges  gender_Female  gender_Male  \\\n",
       "0                 0              29            29              1            0   \n",
       "1                 0              56          1889              0            1   \n",
       "2                 0              53           108              0            1   \n",
       "3                 0              42          1840              0            1   \n",
       "4                 0              70           151              1            0   \n",
       "...             ...             ...           ...            ...          ...   \n",
       "7027              0              84          1990              0            1   \n",
       "7028              0             103          7362              1            0   \n",
       "7029              0              29           346              1            0   \n",
       "7030              1              74           306              0            1   \n",
       "7031              0             105          6844              0            1   \n",
       "\n",
       "      Partner_No  Partner_Yes  Dependents_No  Dependents_Yes  PhoneService_No  \\\n",
       "0              0            1              1               0                1   \n",
       "1              1            0              1               0                0   \n",
       "2              1            0              1               0                0   \n",
       "3              1            0              1               0                1   \n",
       "4              1            0              1               0                0   \n",
       "...          ...          ...            ...             ...              ...   \n",
       "7027           0            1              0               1                0   \n",
       "7028           0            1              0               1                0   \n",
       "7029           0            1              0               1                1   \n",
       "7030           0            1              1               0                0   \n",
       "7031           1            0              1               0                0   \n",
       "\n",
       "      ...  PaymentMethod_Bank transfer (automatic)  \\\n",
       "0     ...                                        0   \n",
       "1     ...                                        0   \n",
       "2     ...                                        0   \n",
       "3     ...                                        1   \n",
       "4     ...                                        0   \n",
       "...   ...                                      ...   \n",
       "7027  ...                                        0   \n",
       "7028  ...                                        0   \n",
       "7029  ...                                        0   \n",
       "7030  ...                                        0   \n",
       "7031  ...                                        1   \n",
       "\n",
       "      PaymentMethod_Credit card (automatic)  PaymentMethod_Electronic check  \\\n",
       "0                                         0                               1   \n",
       "1                                         0                               0   \n",
       "2                                         0                               0   \n",
       "3                                         0                               0   \n",
       "4                                         0                               1   \n",
       "...                                     ...                             ...   \n",
       "7027                                      0                               0   \n",
       "7028                                      1                               0   \n",
       "7029                                      0                               1   \n",
       "7030                                      0                               0   \n",
       "7031                                      0                               0   \n",
       "\n",
       "      PaymentMethod_Mailed check  tenure_group_1 - 12  tenure_group_13 - 24  \\\n",
       "0                              0                    1                     0   \n",
       "1                              1                    0                     0   \n",
       "2                              1                    1                     0   \n",
       "3                              0                    0                     0   \n",
       "4                              0                    1                     0   \n",
       "...                          ...                  ...                   ...   \n",
       "7027                           1                    0                     1   \n",
       "7028                           0                    0                     0   \n",
       "7029                           0                    1                     0   \n",
       "7030                           1                    1                     0   \n",
       "7031                           0                    0                     0   \n",
       "\n",
       "      tenure_group_25 - 36  tenure_group_37 - 48  tenure_group_49 - 60  \\\n",
       "0                        0                     0                     0   \n",
       "1                        1                     0                     0   \n",
       "2                        0                     0                     0   \n",
       "3                        0                     1                     0   \n",
       "4                        0                     0                     0   \n",
       "...                    ...                   ...                   ...   \n",
       "7027                     0                     0                     0   \n",
       "7028                     0                     0                     0   \n",
       "7029                     0                     0                     0   \n",
       "7030                     0                     0                     0   \n",
       "7031                     0                     0                     0   \n",
       "\n",
       "      tenure_group_61 - 72  \n",
       "0                        0  \n",
       "1                        0  \n",
       "2                        0  \n",
       "3                        0  \n",
       "4                        0  \n",
       "...                    ...  \n",
       "7027                     0  \n",
       "7028                     1  \n",
       "7029                     0  \n",
       "7030                     0  \n",
       "7031                     1  \n",
       "\n",
       "[7032 rows x 50 columns]"
      ]
     },
     "execution_count": 4,
     "metadata": {},
     "output_type": "execute_result"
    }
   ],
   "source": [
    "#Creating the X variable\n",
    "x=df.drop('Churn',axis=1)\n",
    "x"
   ]
  },
  {
   "cell_type": "code",
   "execution_count": 5,
   "metadata": {},
   "outputs": [
    {
     "data": {
      "text/plain": [
       "0       0\n",
       "1       0\n",
       "2       1\n",
       "3       0\n",
       "4       1\n",
       "       ..\n",
       "7027    0\n",
       "7028    0\n",
       "7029    0\n",
       "7030    1\n",
       "7031    0\n",
       "Name: Churn, Length: 7032, dtype: int64"
      ]
     },
     "execution_count": 5,
     "metadata": {},
     "output_type": "execute_result"
    }
   ],
   "source": [
    "#Creating the Y variable\n",
    "y=df['Churn']\n",
    "y"
   ]
  },
  {
   "cell_type": "markdown",
   "metadata": {},
   "source": [
    "##### Train Test Split"
   ]
  },
  {
   "cell_type": "code",
   "execution_count": 6,
   "metadata": {},
   "outputs": [],
   "source": [
    "x_train,x_test,y_train,y_test=train_test_split(x,y,test_size=0.2)"
   ]
  },
  {
   "cell_type": "markdown",
   "metadata": {},
   "source": [
    "#### Decision Tree Classifier"
   ]
  },
  {
   "cell_type": "code",
   "execution_count": 7,
   "metadata": {},
   "outputs": [],
   "source": [
    "model_dt=DecisionTreeClassifier(criterion = \"gini\",random_state = 100,max_depth=6, min_samples_leaf=8)"
   ]
  },
  {
   "cell_type": "code",
   "execution_count": 8,
   "metadata": {},
   "outputs": [
    {
     "data": {
      "text/html": [
       "<style>#sk-container-id-1 {color: black;background-color: white;}#sk-container-id-1 pre{padding: 0;}#sk-container-id-1 div.sk-toggleable {background-color: white;}#sk-container-id-1 label.sk-toggleable__label {cursor: pointer;display: block;width: 100%;margin-bottom: 0;padding: 0.3em;box-sizing: border-box;text-align: center;}#sk-container-id-1 label.sk-toggleable__label-arrow:before {content: \"▸\";float: left;margin-right: 0.25em;color: #696969;}#sk-container-id-1 label.sk-toggleable__label-arrow:hover:before {color: black;}#sk-container-id-1 div.sk-estimator:hover label.sk-toggleable__label-arrow:before {color: black;}#sk-container-id-1 div.sk-toggleable__content {max-height: 0;max-width: 0;overflow: hidden;text-align: left;background-color: #f0f8ff;}#sk-container-id-1 div.sk-toggleable__content pre {margin: 0.2em;color: black;border-radius: 0.25em;background-color: #f0f8ff;}#sk-container-id-1 input.sk-toggleable__control:checked~div.sk-toggleable__content {max-height: 200px;max-width: 100%;overflow: auto;}#sk-container-id-1 input.sk-toggleable__control:checked~label.sk-toggleable__label-arrow:before {content: \"▾\";}#sk-container-id-1 div.sk-estimator input.sk-toggleable__control:checked~label.sk-toggleable__label {background-color: #d4ebff;}#sk-container-id-1 div.sk-label input.sk-toggleable__control:checked~label.sk-toggleable__label {background-color: #d4ebff;}#sk-container-id-1 input.sk-hidden--visually {border: 0;clip: rect(1px 1px 1px 1px);clip: rect(1px, 1px, 1px, 1px);height: 1px;margin: -1px;overflow: hidden;padding: 0;position: absolute;width: 1px;}#sk-container-id-1 div.sk-estimator {font-family: monospace;background-color: #f0f8ff;border: 1px dotted black;border-radius: 0.25em;box-sizing: border-box;margin-bottom: 0.5em;}#sk-container-id-1 div.sk-estimator:hover {background-color: #d4ebff;}#sk-container-id-1 div.sk-parallel-item::after {content: \"\";width: 100%;border-bottom: 1px solid gray;flex-grow: 1;}#sk-container-id-1 div.sk-label:hover label.sk-toggleable__label {background-color: #d4ebff;}#sk-container-id-1 div.sk-serial::before {content: \"\";position: absolute;border-left: 1px solid gray;box-sizing: border-box;top: 0;bottom: 0;left: 50%;z-index: 0;}#sk-container-id-1 div.sk-serial {display: flex;flex-direction: column;align-items: center;background-color: white;padding-right: 0.2em;padding-left: 0.2em;position: relative;}#sk-container-id-1 div.sk-item {position: relative;z-index: 1;}#sk-container-id-1 div.sk-parallel {display: flex;align-items: stretch;justify-content: center;background-color: white;position: relative;}#sk-container-id-1 div.sk-item::before, #sk-container-id-1 div.sk-parallel-item::before {content: \"\";position: absolute;border-left: 1px solid gray;box-sizing: border-box;top: 0;bottom: 0;left: 50%;z-index: -1;}#sk-container-id-1 div.sk-parallel-item {display: flex;flex-direction: column;z-index: 1;position: relative;background-color: white;}#sk-container-id-1 div.sk-parallel-item:first-child::after {align-self: flex-end;width: 50%;}#sk-container-id-1 div.sk-parallel-item:last-child::after {align-self: flex-start;width: 50%;}#sk-container-id-1 div.sk-parallel-item:only-child::after {width: 0;}#sk-container-id-1 div.sk-dashed-wrapped {border: 1px dashed gray;margin: 0 0.4em 0.5em 0.4em;box-sizing: border-box;padding-bottom: 0.4em;background-color: white;}#sk-container-id-1 div.sk-label label {font-family: monospace;font-weight: bold;display: inline-block;line-height: 1.2em;}#sk-container-id-1 div.sk-label-container {text-align: center;}#sk-container-id-1 div.sk-container {/* jupyter's `normalize.less` sets `[hidden] { display: none; }` but bootstrap.min.css set `[hidden] { display: none !important; }` so we also need the `!important` here to be able to override the default hidden behavior on the sphinx rendered scikit-learn.org. See: https://github.com/scikit-learn/scikit-learn/issues/21755 */display: inline-block !important;position: relative;}#sk-container-id-1 div.sk-text-repr-fallback {display: none;}</style><div id=\"sk-container-id-1\" class=\"sk-top-container\"><div class=\"sk-text-repr-fallback\"><pre>DecisionTreeClassifier(max_depth=6, min_samples_leaf=8, random_state=100)</pre><b>In a Jupyter environment, please rerun this cell to show the HTML representation or trust the notebook. <br />On GitHub, the HTML representation is unable to render, please try loading this page with nbviewer.org.</b></div><div class=\"sk-container\" hidden><div class=\"sk-item\"><div class=\"sk-estimator sk-toggleable\"><input class=\"sk-toggleable__control sk-hidden--visually\" id=\"sk-estimator-id-1\" type=\"checkbox\" checked><label for=\"sk-estimator-id-1\" class=\"sk-toggleable__label sk-toggleable__label-arrow\">DecisionTreeClassifier</label><div class=\"sk-toggleable__content\"><pre>DecisionTreeClassifier(max_depth=6, min_samples_leaf=8, random_state=100)</pre></div></div></div></div></div>"
      ],
      "text/plain": [
       "DecisionTreeClassifier(max_depth=6, min_samples_leaf=8, random_state=100)"
      ]
     },
     "execution_count": 8,
     "metadata": {},
     "output_type": "execute_result"
    }
   ],
   "source": [
    "model_dt.fit(x_train,y_train)"
   ]
  },
  {
   "cell_type": "code",
   "execution_count": 9,
   "metadata": {},
   "outputs": [
    {
     "data": {
      "text/plain": [
       "array([0, 0, 1, ..., 0, 0, 0], dtype=int64)"
      ]
     },
     "execution_count": 9,
     "metadata": {},
     "output_type": "execute_result"
    }
   ],
   "source": [
    "y_pred=model_dt.predict(x_test)\n",
    "y_pred"
   ]
  },
  {
   "cell_type": "code",
   "execution_count": 10,
   "metadata": {},
   "outputs": [
    {
     "data": {
      "text/plain": [
       "0.798862828713575"
      ]
     },
     "execution_count": 10,
     "metadata": {},
     "output_type": "execute_result"
    }
   ],
   "source": [
    "model_dt.score(x_test,y_test)"
   ]
  },
  {
   "cell_type": "code",
   "execution_count": 11,
   "metadata": {},
   "outputs": [
    {
     "name": "stdout",
     "output_type": "stream",
     "text": [
      "              precision    recall  f1-score   support\n",
      "\n",
      "           0       0.85      0.88      0.87      1031\n",
      "           1       0.64      0.58      0.61       376\n",
      "\n",
      "    accuracy                           0.80      1407\n",
      "   macro avg       0.74      0.73      0.74      1407\n",
      "weighted avg       0.79      0.80      0.80      1407\n",
      "\n"
     ]
    }
   ],
   "source": [
    "print(classification_report(y_test, y_pred, labels=[0,1]))"
   ]
  },
  {
   "cell_type": "markdown",
   "metadata": {},
   "source": [
    "###### As you can see that the accuracy is quite low, and as it's an imbalanced dataset, we shouldn't consider Accuracy as our metrics to measure the model, as Accuracy is cursed in imbalanced datasets.\n",
    "\n",
    "###### Hence, we need to check recall, precision & f1 score for the minority class, and it's quite evident that the precision, recall & f1 score is too low for Class 1, i.e. churned customers.\n",
    "\n",
    "###### Hence, moving ahead to call SMOTEENN (UpSampling + ENN)"
   ]
  },
  {
   "cell_type": "code",
   "execution_count": 12,
   "metadata": {},
   "outputs": [],
   "source": [
    "sm = SMOTEENN()\n",
    "X_resampled, y_resampled = sm.fit_resample(x, y)"
   ]
  },
  {
   "cell_type": "code",
   "execution_count": 13,
   "metadata": {},
   "outputs": [],
   "source": [
    "xr_train,xr_test,yr_train,yr_test=train_test_split(X_resampled, y_resampled,test_size=0.2)"
   ]
  },
  {
   "cell_type": "code",
   "execution_count": 14,
   "metadata": {},
   "outputs": [],
   "source": [
    "model_dt_smote=DecisionTreeClassifier(criterion = \"gini\",random_state = 100,max_depth=6, min_samples_leaf=8)"
   ]
  },
  {
   "cell_type": "code",
   "execution_count": 15,
   "metadata": {},
   "outputs": [
    {
     "name": "stdout",
     "output_type": "stream",
     "text": [
      "0.9175965665236051\n",
      "              precision    recall  f1-score   support\n",
      "\n",
      "           0       0.94      0.88      0.91       539\n",
      "           1       0.90      0.95      0.93       626\n",
      "\n",
      "    accuracy                           0.92      1165\n",
      "   macro avg       0.92      0.91      0.92      1165\n",
      "weighted avg       0.92      0.92      0.92      1165\n",
      "\n"
     ]
    }
   ],
   "source": [
    "model_dt_smote.fit(xr_train,yr_train)\n",
    "yr_predict = model_dt_smote.predict(xr_test)\n",
    "model_score_r = model_dt_smote.score(xr_test, yr_test)\n",
    "print(model_score_r)\n",
    "print(metrics.classification_report(yr_test, yr_predict))"
   ]
  },
  {
   "cell_type": "code",
   "execution_count": 16,
   "metadata": {},
   "outputs": [
    {
     "name": "stdout",
     "output_type": "stream",
     "text": [
      "[[474  65]\n",
      " [ 31 595]]\n"
     ]
    }
   ],
   "source": [
    "print(metrics.confusion_matrix(yr_test, yr_predict))"
   ]
  },
  {
   "cell_type": "markdown",
   "metadata": {},
   "source": [
    "###### Now we can see quite better results, i.e. Accuracy: 92 %, and a very good recall, precision & f1 score for minority class.\n",
    "\n",
    "###### Let's try with some other classifier."
   ]
  },
  {
   "cell_type": "markdown",
   "metadata": {},
   "source": [
    "#### Random Forest Classifier"
   ]
  },
  {
   "cell_type": "code",
   "execution_count": 17,
   "metadata": {},
   "outputs": [],
   "source": [
    "from sklearn.ensemble import RandomForestClassifier"
   ]
  },
  {
   "cell_type": "code",
   "execution_count": 18,
   "metadata": {},
   "outputs": [],
   "source": [
    "model_rf=RandomForestClassifier(n_estimators=100, criterion='gini', random_state = 100,max_depth=6, min_samples_leaf=8)"
   ]
  },
  {
   "cell_type": "code",
   "execution_count": 19,
   "metadata": {},
   "outputs": [
    {
     "data": {
      "text/html": [
       "<style>#sk-container-id-2 {color: black;background-color: white;}#sk-container-id-2 pre{padding: 0;}#sk-container-id-2 div.sk-toggleable {background-color: white;}#sk-container-id-2 label.sk-toggleable__label {cursor: pointer;display: block;width: 100%;margin-bottom: 0;padding: 0.3em;box-sizing: border-box;text-align: center;}#sk-container-id-2 label.sk-toggleable__label-arrow:before {content: \"▸\";float: left;margin-right: 0.25em;color: #696969;}#sk-container-id-2 label.sk-toggleable__label-arrow:hover:before {color: black;}#sk-container-id-2 div.sk-estimator:hover label.sk-toggleable__label-arrow:before {color: black;}#sk-container-id-2 div.sk-toggleable__content {max-height: 0;max-width: 0;overflow: hidden;text-align: left;background-color: #f0f8ff;}#sk-container-id-2 div.sk-toggleable__content pre {margin: 0.2em;color: black;border-radius: 0.25em;background-color: #f0f8ff;}#sk-container-id-2 input.sk-toggleable__control:checked~div.sk-toggleable__content {max-height: 200px;max-width: 100%;overflow: auto;}#sk-container-id-2 input.sk-toggleable__control:checked~label.sk-toggleable__label-arrow:before {content: \"▾\";}#sk-container-id-2 div.sk-estimator input.sk-toggleable__control:checked~label.sk-toggleable__label {background-color: #d4ebff;}#sk-container-id-2 div.sk-label input.sk-toggleable__control:checked~label.sk-toggleable__label {background-color: #d4ebff;}#sk-container-id-2 input.sk-hidden--visually {border: 0;clip: rect(1px 1px 1px 1px);clip: rect(1px, 1px, 1px, 1px);height: 1px;margin: -1px;overflow: hidden;padding: 0;position: absolute;width: 1px;}#sk-container-id-2 div.sk-estimator {font-family: monospace;background-color: #f0f8ff;border: 1px dotted black;border-radius: 0.25em;box-sizing: border-box;margin-bottom: 0.5em;}#sk-container-id-2 div.sk-estimator:hover {background-color: #d4ebff;}#sk-container-id-2 div.sk-parallel-item::after {content: \"\";width: 100%;border-bottom: 1px solid gray;flex-grow: 1;}#sk-container-id-2 div.sk-label:hover label.sk-toggleable__label {background-color: #d4ebff;}#sk-container-id-2 div.sk-serial::before {content: \"\";position: absolute;border-left: 1px solid gray;box-sizing: border-box;top: 0;bottom: 0;left: 50%;z-index: 0;}#sk-container-id-2 div.sk-serial {display: flex;flex-direction: column;align-items: center;background-color: white;padding-right: 0.2em;padding-left: 0.2em;position: relative;}#sk-container-id-2 div.sk-item {position: relative;z-index: 1;}#sk-container-id-2 div.sk-parallel {display: flex;align-items: stretch;justify-content: center;background-color: white;position: relative;}#sk-container-id-2 div.sk-item::before, #sk-container-id-2 div.sk-parallel-item::before {content: \"\";position: absolute;border-left: 1px solid gray;box-sizing: border-box;top: 0;bottom: 0;left: 50%;z-index: -1;}#sk-container-id-2 div.sk-parallel-item {display: flex;flex-direction: column;z-index: 1;position: relative;background-color: white;}#sk-container-id-2 div.sk-parallel-item:first-child::after {align-self: flex-end;width: 50%;}#sk-container-id-2 div.sk-parallel-item:last-child::after {align-self: flex-start;width: 50%;}#sk-container-id-2 div.sk-parallel-item:only-child::after {width: 0;}#sk-container-id-2 div.sk-dashed-wrapped {border: 1px dashed gray;margin: 0 0.4em 0.5em 0.4em;box-sizing: border-box;padding-bottom: 0.4em;background-color: white;}#sk-container-id-2 div.sk-label label {font-family: monospace;font-weight: bold;display: inline-block;line-height: 1.2em;}#sk-container-id-2 div.sk-label-container {text-align: center;}#sk-container-id-2 div.sk-container {/* jupyter's `normalize.less` sets `[hidden] { display: none; }` but bootstrap.min.css set `[hidden] { display: none !important; }` so we also need the `!important` here to be able to override the default hidden behavior on the sphinx rendered scikit-learn.org. See: https://github.com/scikit-learn/scikit-learn/issues/21755 */display: inline-block !important;position: relative;}#sk-container-id-2 div.sk-text-repr-fallback {display: none;}</style><div id=\"sk-container-id-2\" class=\"sk-top-container\"><div class=\"sk-text-repr-fallback\"><pre>RandomForestClassifier(max_depth=6, min_samples_leaf=8, random_state=100)</pre><b>In a Jupyter environment, please rerun this cell to show the HTML representation or trust the notebook. <br />On GitHub, the HTML representation is unable to render, please try loading this page with nbviewer.org.</b></div><div class=\"sk-container\" hidden><div class=\"sk-item\"><div class=\"sk-estimator sk-toggleable\"><input class=\"sk-toggleable__control sk-hidden--visually\" id=\"sk-estimator-id-2\" type=\"checkbox\" checked><label for=\"sk-estimator-id-2\" class=\"sk-toggleable__label sk-toggleable__label-arrow\">RandomForestClassifier</label><div class=\"sk-toggleable__content\"><pre>RandomForestClassifier(max_depth=6, min_samples_leaf=8, random_state=100)</pre></div></div></div></div></div>"
      ],
      "text/plain": [
       "RandomForestClassifier(max_depth=6, min_samples_leaf=8, random_state=100)"
      ]
     },
     "execution_count": 19,
     "metadata": {},
     "output_type": "execute_result"
    }
   ],
   "source": [
    "model_rf.fit(x_train,y_train)"
   ]
  },
  {
   "cell_type": "code",
   "execution_count": 20,
   "metadata": {},
   "outputs": [],
   "source": [
    "y_pred=model_rf.predict(x_test)"
   ]
  },
  {
   "cell_type": "code",
   "execution_count": 21,
   "metadata": {},
   "outputs": [
    {
     "data": {
      "text/plain": [
       "0.8081023454157783"
      ]
     },
     "execution_count": 21,
     "metadata": {},
     "output_type": "execute_result"
    }
   ],
   "source": [
    "model_rf.score(x_test,y_test)"
   ]
  },
  {
   "cell_type": "code",
   "execution_count": 22,
   "metadata": {},
   "outputs": [
    {
     "name": "stdout",
     "output_type": "stream",
     "text": [
      "              precision    recall  f1-score   support\n",
      "\n",
      "           0       0.83      0.93      0.88      1031\n",
      "           1       0.71      0.48      0.57       376\n",
      "\n",
      "    accuracy                           0.81      1407\n",
      "   macro avg       0.77      0.71      0.73      1407\n",
      "weighted avg       0.80      0.81      0.80      1407\n",
      "\n"
     ]
    }
   ],
   "source": [
    "print(classification_report(y_test, y_pred, labels=[0,1]))"
   ]
  },
  {
   "cell_type": "code",
   "execution_count": null,
   "metadata": {},
   "outputs": [],
   "source": []
  },
  {
   "cell_type": "code",
   "execution_count": null,
   "metadata": {},
   "outputs": [],
   "source": []
  },
  {
   "cell_type": "code",
   "execution_count": 23,
   "metadata": {},
   "outputs": [],
   "source": [
    "sm = SMOTEENN()\n",
    "X_resampled1, y_resampled1 = sm.fit_resample(x,y)"
   ]
  },
  {
   "cell_type": "code",
   "execution_count": 24,
   "metadata": {},
   "outputs": [],
   "source": [
    "xr_train1,xr_test1,yr_train1,yr_test1=train_test_split(X_resampled1, y_resampled1,test_size=0.2)"
   ]
  },
  {
   "cell_type": "code",
   "execution_count": 25,
   "metadata": {},
   "outputs": [],
   "source": [
    "model_rf_smote=RandomForestClassifier(n_estimators=100, criterion='gini', random_state = 100,max_depth=6, min_samples_leaf=8)"
   ]
  },
  {
   "cell_type": "code",
   "execution_count": 26,
   "metadata": {},
   "outputs": [
    {
     "data": {
      "text/html": [
       "<style>#sk-container-id-3 {color: black;background-color: white;}#sk-container-id-3 pre{padding: 0;}#sk-container-id-3 div.sk-toggleable {background-color: white;}#sk-container-id-3 label.sk-toggleable__label {cursor: pointer;display: block;width: 100%;margin-bottom: 0;padding: 0.3em;box-sizing: border-box;text-align: center;}#sk-container-id-3 label.sk-toggleable__label-arrow:before {content: \"▸\";float: left;margin-right: 0.25em;color: #696969;}#sk-container-id-3 label.sk-toggleable__label-arrow:hover:before {color: black;}#sk-container-id-3 div.sk-estimator:hover label.sk-toggleable__label-arrow:before {color: black;}#sk-container-id-3 div.sk-toggleable__content {max-height: 0;max-width: 0;overflow: hidden;text-align: left;background-color: #f0f8ff;}#sk-container-id-3 div.sk-toggleable__content pre {margin: 0.2em;color: black;border-radius: 0.25em;background-color: #f0f8ff;}#sk-container-id-3 input.sk-toggleable__control:checked~div.sk-toggleable__content {max-height: 200px;max-width: 100%;overflow: auto;}#sk-container-id-3 input.sk-toggleable__control:checked~label.sk-toggleable__label-arrow:before {content: \"▾\";}#sk-container-id-3 div.sk-estimator input.sk-toggleable__control:checked~label.sk-toggleable__label {background-color: #d4ebff;}#sk-container-id-3 div.sk-label input.sk-toggleable__control:checked~label.sk-toggleable__label {background-color: #d4ebff;}#sk-container-id-3 input.sk-hidden--visually {border: 0;clip: rect(1px 1px 1px 1px);clip: rect(1px, 1px, 1px, 1px);height: 1px;margin: -1px;overflow: hidden;padding: 0;position: absolute;width: 1px;}#sk-container-id-3 div.sk-estimator {font-family: monospace;background-color: #f0f8ff;border: 1px dotted black;border-radius: 0.25em;box-sizing: border-box;margin-bottom: 0.5em;}#sk-container-id-3 div.sk-estimator:hover {background-color: #d4ebff;}#sk-container-id-3 div.sk-parallel-item::after {content: \"\";width: 100%;border-bottom: 1px solid gray;flex-grow: 1;}#sk-container-id-3 div.sk-label:hover label.sk-toggleable__label {background-color: #d4ebff;}#sk-container-id-3 div.sk-serial::before {content: \"\";position: absolute;border-left: 1px solid gray;box-sizing: border-box;top: 0;bottom: 0;left: 50%;z-index: 0;}#sk-container-id-3 div.sk-serial {display: flex;flex-direction: column;align-items: center;background-color: white;padding-right: 0.2em;padding-left: 0.2em;position: relative;}#sk-container-id-3 div.sk-item {position: relative;z-index: 1;}#sk-container-id-3 div.sk-parallel {display: flex;align-items: stretch;justify-content: center;background-color: white;position: relative;}#sk-container-id-3 div.sk-item::before, #sk-container-id-3 div.sk-parallel-item::before {content: \"\";position: absolute;border-left: 1px solid gray;box-sizing: border-box;top: 0;bottom: 0;left: 50%;z-index: -1;}#sk-container-id-3 div.sk-parallel-item {display: flex;flex-direction: column;z-index: 1;position: relative;background-color: white;}#sk-container-id-3 div.sk-parallel-item:first-child::after {align-self: flex-end;width: 50%;}#sk-container-id-3 div.sk-parallel-item:last-child::after {align-self: flex-start;width: 50%;}#sk-container-id-3 div.sk-parallel-item:only-child::after {width: 0;}#sk-container-id-3 div.sk-dashed-wrapped {border: 1px dashed gray;margin: 0 0.4em 0.5em 0.4em;box-sizing: border-box;padding-bottom: 0.4em;background-color: white;}#sk-container-id-3 div.sk-label label {font-family: monospace;font-weight: bold;display: inline-block;line-height: 1.2em;}#sk-container-id-3 div.sk-label-container {text-align: center;}#sk-container-id-3 div.sk-container {/* jupyter's `normalize.less` sets `[hidden] { display: none; }` but bootstrap.min.css set `[hidden] { display: none !important; }` so we also need the `!important` here to be able to override the default hidden behavior on the sphinx rendered scikit-learn.org. See: https://github.com/scikit-learn/scikit-learn/issues/21755 */display: inline-block !important;position: relative;}#sk-container-id-3 div.sk-text-repr-fallback {display: none;}</style><div id=\"sk-container-id-3\" class=\"sk-top-container\"><div class=\"sk-text-repr-fallback\"><pre>RandomForestClassifier(max_depth=6, min_samples_leaf=8, random_state=100)</pre><b>In a Jupyter environment, please rerun this cell to show the HTML representation or trust the notebook. <br />On GitHub, the HTML representation is unable to render, please try loading this page with nbviewer.org.</b></div><div class=\"sk-container\" hidden><div class=\"sk-item\"><div class=\"sk-estimator sk-toggleable\"><input class=\"sk-toggleable__control sk-hidden--visually\" id=\"sk-estimator-id-3\" type=\"checkbox\" checked><label for=\"sk-estimator-id-3\" class=\"sk-toggleable__label sk-toggleable__label-arrow\">RandomForestClassifier</label><div class=\"sk-toggleable__content\"><pre>RandomForestClassifier(max_depth=6, min_samples_leaf=8, random_state=100)</pre></div></div></div></div></div>"
      ],
      "text/plain": [
       "RandomForestClassifier(max_depth=6, min_samples_leaf=8, random_state=100)"
      ]
     },
     "execution_count": 26,
     "metadata": {},
     "output_type": "execute_result"
    }
   ],
   "source": [
    "model_rf_smote.fit(xr_train1,yr_train1)"
   ]
  },
  {
   "cell_type": "code",
   "execution_count": 27,
   "metadata": {},
   "outputs": [],
   "source": [
    "yr_predict1 = model_rf_smote.predict(xr_test1)"
   ]
  },
  {
   "cell_type": "code",
   "execution_count": 28,
   "metadata": {},
   "outputs": [],
   "source": [
    "model_score_r1 = model_rf_smote.score(xr_test1, yr_test1)"
   ]
  },
  {
   "cell_type": "code",
   "execution_count": 29,
   "metadata": {},
   "outputs": [
    {
     "name": "stdout",
     "output_type": "stream",
     "text": [
      "0.9241379310344827\n",
      "              precision    recall  f1-score   support\n",
      "\n",
      "           0       0.94      0.88      0.91       491\n",
      "           1       0.92      0.96      0.94       669\n",
      "\n",
      "    accuracy                           0.92      1160\n",
      "   macro avg       0.93      0.92      0.92      1160\n",
      "weighted avg       0.92      0.92      0.92      1160\n",
      "\n"
     ]
    }
   ],
   "source": [
    "print(model_score_r1)\n",
    "print(metrics.classification_report(yr_test1, yr_predict1))"
   ]
  },
  {
   "cell_type": "code",
   "execution_count": 30,
   "metadata": {},
   "outputs": [
    {
     "name": "stdout",
     "output_type": "stream",
     "text": [
      "[[433  58]\n",
      " [ 30 639]]\n"
     ]
    }
   ],
   "source": [
    "print(metrics.confusion_matrix(yr_test1, yr_predict1))"
   ]
  },
  {
   "cell_type": "markdown",
   "metadata": {},
   "source": [
    "###### With RF Classifier, also we are able to get quite good results, infact better than Decision Tree.\n",
    "\n",
    "###### We can now further go ahead and create multiple classifiers to see how the model performance is, but that's not covered here, so you can do it by yourself :)"
   ]
  },
  {
   "cell_type": "markdown",
   "metadata": {},
   "source": [
    "#### XGBoost"
   ]
  },
  {
   "cell_type": "code",
   "execution_count": 31,
   "metadata": {},
   "outputs": [
    {
     "name": "stdout",
     "output_type": "stream",
     "text": [
      "Requirement already satisfied: xgboost in c:\\users\\user\\anaconda3\\lib\\site-packages (2.0.3)\n",
      "Requirement already satisfied: numpy in c:\\users\\user\\anaconda3\\lib\\site-packages (from xgboost) (1.26.4)\n",
      "Requirement already satisfied: scipy in c:\\users\\user\\anaconda3\\lib\\site-packages (from xgboost) (1.11.4)\n",
      "Note: you may need to restart the kernel to use updated packages.\n"
     ]
    }
   ],
   "source": [
    "pip install xgboost"
   ]
  },
  {
   "cell_type": "code",
   "execution_count": 32,
   "metadata": {},
   "outputs": [
    {
     "name": "stdout",
     "output_type": "stream",
     "text": [
      "Requirement already satisfied: optuna in c:\\users\\user\\anaconda3\\lib\\site-packages (3.6.1)\n",
      "Requirement already satisfied: alembic>=1.5.0 in c:\\users\\user\\anaconda3\\lib\\site-packages (from optuna) (1.13.1)\n",
      "Requirement already satisfied: colorlog in c:\\users\\user\\anaconda3\\lib\\site-packages (from optuna) (6.8.2)\n",
      "Requirement already satisfied: numpy in c:\\users\\user\\anaconda3\\lib\\site-packages (from optuna) (1.26.4)\n",
      "Requirement already satisfied: packaging>=20.0 in c:\\users\\user\\anaconda3\\lib\\site-packages (from optuna) (23.1)\n",
      "Requirement already satisfied: sqlalchemy>=1.3.0 in c:\\users\\user\\anaconda3\\lib\\site-packages (from optuna) (2.0.25)\n",
      "Requirement already satisfied: tqdm in c:\\users\\user\\anaconda3\\lib\\site-packages (from optuna) (4.65.0)\n",
      "Requirement already satisfied: PyYAML in c:\\users\\user\\anaconda3\\lib\\site-packages (from optuna) (6.0.1)\n",
      "Requirement already satisfied: Mako in c:\\users\\user\\anaconda3\\lib\\site-packages (from alembic>=1.5.0->optuna) (1.3.5)\n",
      "Requirement already satisfied: typing-extensions>=4 in c:\\users\\user\\anaconda3\\lib\\site-packages (from alembic>=1.5.0->optuna) (4.9.0)\n",
      "Requirement already satisfied: greenlet!=0.4.17 in c:\\users\\user\\anaconda3\\lib\\site-packages (from sqlalchemy>=1.3.0->optuna) (3.0.1)\n",
      "Requirement already satisfied: colorama in c:\\users\\user\\anaconda3\\lib\\site-packages (from colorlog->optuna) (0.4.6)\n",
      "Requirement already satisfied: MarkupSafe>=0.9.2 in c:\\users\\user\\anaconda3\\lib\\site-packages (from Mako->alembic>=1.5.0->optuna) (2.1.3)\n"
     ]
    }
   ],
   "source": [
    "!pip install optuna"
   ]
  },
  {
   "cell_type": "code",
   "execution_count": 33,
   "metadata": {},
   "outputs": [],
   "source": [
    "import optuna"
   ]
  },
  {
   "cell_type": "code",
   "execution_count": 34,
   "metadata": {},
   "outputs": [],
   "source": [
    "from xgboost import XGBClassifier\n",
    "from sklearn.model_selection import cross_val_score\n",
    "from sklearn.metrics import accuracy_score\n",
    "from optuna import Trial\n",
    "import optuna"
   ]
  },
  {
   "cell_type": "code",
   "execution_count": 56,
   "metadata": {},
   "outputs": [],
   "source": [
    "def objective(trial):\n",
    "  params = {\n",
    "      'learning_rate': trial.suggest_float('learning_rate', 0.001, 0.2),\n",
    "      'max_depth': trial.suggest_int('max_depth', 1, 8),\n",
    "      'min_child_weight': trial.suggest_float('min_child_weight', 0.5, 10),\n",
    "      'reg_lambda': trial.suggest_float('reg_lambda', 0.001, 20),\n",
    "      'n_estimators': trial.suggest_int('n_estimators', 20, 200),\n",
    "      'max_leaves': trial.suggest_int('max_leaves', 2, 20),\n",
    "      'verbosity':0,\n",
    "      'objective': 'binary:logistic',\n",
    "      'eval_metric': 'logloss',\n",
    "  }\n",
    "  model = XGBClassifier(**params)\n",
    "  scores = cross_val_score(model, X = x_train, y = y_train, cv=3, scoring='roc_auc').mean()\n",
    "  return scores"
   ]
  },
  {
   "cell_type": "code",
   "execution_count": 57,
   "metadata": {},
   "outputs": [
    {
     "name": "stderr",
     "output_type": "stream",
     "text": [
      "[I 2024-06-21 22:49:27,206] A new study created in memory with name: no-name-5f994abe-4c7d-4891-95f8-67e7ebee6fe4\n",
      "[I 2024-06-21 22:49:27,326] Trial 0 finished with value: 0.8449944744322151 and parameters: {'learning_rate': 0.15144595208048667, 'max_depth': 8, 'min_child_weight': 7.35722848328259, 'reg_lambda': 4.047367561286995, 'n_estimators': 36, 'max_leaves': 7}. Best is trial 0 with value: 0.8449944744322151.\n",
      "[I 2024-06-21 22:49:27,541] Trial 1 finished with value: 0.8454636822918099 and parameters: {'learning_rate': 0.14524036514424019, 'max_depth': 2, 'min_child_weight': 3.995315379782441, 'reg_lambda': 11.457470292381116, 'n_estimators': 123, 'max_leaves': 6}. Best is trial 1 with value: 0.8454636822918099.\n",
      "[I 2024-06-21 22:49:27,754] Trial 2 finished with value: 0.8391951515744638 and parameters: {'learning_rate': 0.1839468947593362, 'max_depth': 4, 'min_child_weight': 7.232543176400711, 'reg_lambda': 1.5282664228027658, 'n_estimators': 70, 'max_leaves': 18}. Best is trial 1 with value: 0.8454636822918099.\n",
      "[I 2024-06-21 22:49:27,952] Trial 3 finished with value: 0.8279155719339041 and parameters: {'learning_rate': 0.006729251780258061, 'max_depth': 4, 'min_child_weight': 3.8327531050744414, 'reg_lambda': 19.796779651752825, 'n_estimators': 77, 'max_leaves': 7}. Best is trial 1 with value: 0.8454636822918099.\n",
      "[I 2024-06-21 22:49:28,186] Trial 4 finished with value: 0.8451698075234226 and parameters: {'learning_rate': 0.14182477102322777, 'max_depth': 7, 'min_child_weight': 4.000838252239552, 'reg_lambda': 18.7633015803777, 'n_estimators': 83, 'max_leaves': 6}. Best is trial 1 with value: 0.8454636822918099.\n",
      "[I 2024-06-21 22:49:28,463] Trial 5 finished with value: 0.8400670465488299 and parameters: {'learning_rate': 0.018572326891655985, 'max_depth': 4, 'min_child_weight': 0.7939499134684751, 'reg_lambda': 5.108153987316822, 'n_estimators': 78, 'max_leaves': 15}. Best is trial 1 with value: 0.8454636822918099.\n",
      "[I 2024-06-21 22:49:28,775] Trial 6 finished with value: 0.8415642053810952 and parameters: {'learning_rate': 0.1970894839124963, 'max_depth': 3, 'min_child_weight': 2.613615159476872, 'reg_lambda': 13.614224861738663, 'n_estimators': 131, 'max_leaves': 19}. Best is trial 1 with value: 0.8454636822918099.\n",
      "[I 2024-06-21 22:49:28,940] Trial 7 finished with value: 0.8452588027332356 and parameters: {'learning_rate': 0.1601343525014182, 'max_depth': 6, 'min_child_weight': 5.363485276294455, 'reg_lambda': 17.964333879125558, 'n_estimators': 50, 'max_leaves': 6}. Best is trial 1 with value: 0.8454636822918099.\n",
      "[I 2024-06-21 22:49:29,371] Trial 8 finished with value: 0.8434600227032236 and parameters: {'learning_rate': 0.05450927551147239, 'max_depth': 4, 'min_child_weight': 9.582199479373429, 'reg_lambda': 0.5202840084551676, 'n_estimators': 158, 'max_leaves': 18}. Best is trial 1 with value: 0.8454636822918099.\n",
      "[I 2024-06-21 22:49:29,704] Trial 9 finished with value: 0.84482456397109 and parameters: {'learning_rate': 0.09622285035384875, 'max_depth': 3, 'min_child_weight': 5.442896860588525, 'reg_lambda': 18.070711365490652, 'n_estimators': 144, 'max_leaves': 6}. Best is trial 1 with value: 0.8454636822918099.\n",
      "[I 2024-06-21 22:49:30,034] Trial 10 finished with value: 0.8447944273412545 and parameters: {'learning_rate': 0.10001001954050313, 'max_depth': 1, 'min_child_weight': 0.9878144687904573, 'reg_lambda': 10.622674142364115, 'n_estimators': 198, 'max_leaves': 2}. Best is trial 1 with value: 0.8454636822918099.\n",
      "[I 2024-06-21 22:49:30,211] Trial 11 finished with value: 0.8441981374370781 and parameters: {'learning_rate': 0.14333249075844293, 'max_depth': 6, 'min_child_weight': 5.972206461045191, 'reg_lambda': 13.895982641087539, 'n_estimators': 22, 'max_leaves': 11}. Best is trial 1 with value: 0.8454636822918099.\n",
      "[I 2024-06-21 22:49:30,494] Trial 12 finished with value: 0.8446925258795058 and parameters: {'learning_rate': 0.16213460163410584, 'max_depth': 1, 'min_child_weight': 3.4799488776794343, 'reg_lambda': 14.969556131756775, 'n_estimators': 123, 'max_leaves': 2}. Best is trial 1 with value: 0.8454636822918099.\n",
      "[I 2024-06-21 22:49:30,814] Trial 13 finished with value: 0.8441953346517125 and parameters: {'learning_rate': 0.12004235696899751, 'max_depth': 6, 'min_child_weight': 6.926833077534518, 'reg_lambda': 9.024152577797974, 'n_estimators': 101, 'max_leaves': 10}. Best is trial 1 with value: 0.8454636822918099.\n",
      "[I 2024-06-21 22:49:31,005] Trial 14 finished with value: 0.8446876507796115 and parameters: {'learning_rate': 0.17206363973638308, 'max_depth': 2, 'min_child_weight': 2.1795142952101028, 'reg_lambda': 9.600471746899712, 'n_estimators': 45, 'max_leaves': 9}. Best is trial 1 with value: 0.8454636822918099.\n",
      "[I 2024-06-21 22:49:31,496] Trial 15 finished with value: 0.8383541160538449 and parameters: {'learning_rate': 0.122181171087571, 'max_depth': 6, 'min_child_weight': 4.768512009624043, 'reg_lambda': 16.697676749270006, 'n_estimators': 168, 'max_leaves': 14}. Best is trial 1 with value: 0.8454636822918099.\n",
      "[I 2024-06-21 22:49:31,796] Trial 16 finished with value: 0.8452471521405848 and parameters: {'learning_rate': 0.07813979292866062, 'max_depth': 5, 'min_child_weight': 8.826862308370451, 'reg_lambda': 7.164928899277916, 'n_estimators': 105, 'max_leaves': 4}. Best is trial 1 with value: 0.8454636822918099.\n",
      "[I 2024-06-21 22:49:32,042] Trial 17 finished with value: 0.845041684445189 and parameters: {'learning_rate': 0.11989471085630111, 'max_depth': 8, 'min_child_weight': 6.127061432264475, 'reg_lambda': 11.718693015686672, 'n_estimators': 45, 'max_leaves': 13}. Best is trial 1 with value: 0.8454636822918099.\n",
      "[I 2024-06-21 22:49:32,257] Trial 18 finished with value: 0.8452368218604294 and parameters: {'learning_rate': 0.19568459730043444, 'max_depth': 5, 'min_child_weight': 2.589465670944635, 'reg_lambda': 16.516573892496588, 'n_estimators': 57, 'max_leaves': 4}. Best is trial 1 with value: 0.8454636822918099.\n",
      "[I 2024-06-21 22:49:32,563] Trial 19 finished with value: 0.8437251454866703 and parameters: {'learning_rate': 0.06385613949313393, 'max_depth': 2, 'min_child_weight': 4.721289243624201, 'reg_lambda': 13.06260486764063, 'n_estimators': 101, 'max_leaves': 9}. Best is trial 1 with value: 0.8454636822918099.\n",
      "[I 2024-06-21 22:49:32,969] Trial 20 finished with value: 0.8434344954749348 and parameters: {'learning_rate': 0.17158197208038667, 'max_depth': 7, 'min_child_weight': 8.073127864116163, 'reg_lambda': 15.914679276010052, 'n_estimators': 175, 'max_leaves': 4}. Best is trial 1 with value: 0.8454636822918099.\n",
      "[I 2024-06-21 22:49:33,267] Trial 21 finished with value: 0.8454368069654477 and parameters: {'learning_rate': 0.07240556381782616, 'max_depth': 5, 'min_child_weight': 9.820837774087995, 'reg_lambda': 7.3160243944726355, 'n_estimators': 119, 'max_leaves': 4}. Best is trial 1 with value: 0.8454636822918099.\n",
      "[I 2024-06-21 22:49:33,628] Trial 22 finished with value: 0.8456477131376768 and parameters: {'learning_rate': 0.03961266391587434, 'max_depth': 5, 'min_child_weight': 8.72790847956978, 'reg_lambda': 7.194611554552861, 'n_estimators': 123, 'max_leaves': 8}. Best is trial 22 with value: 0.8456477131376768.\n",
      "[I 2024-06-21 22:49:34,018] Trial 23 finished with value: 0.8459308590595785 and parameters: {'learning_rate': 0.045080705595363466, 'max_depth': 5, 'min_child_weight': 9.657816608052933, 'reg_lambda': 7.212553242970284, 'n_estimators': 131, 'max_leaves': 9}. Best is trial 23 with value: 0.8459308590595785.\n",
      "[I 2024-06-21 22:49:34,386] Trial 24 finished with value: 0.8455901847918917 and parameters: {'learning_rate': 0.03694413110041271, 'max_depth': 3, 'min_child_weight': 8.803538422616288, 'reg_lambda': 6.798109708879844, 'n_estimators': 140, 'max_leaves': 12}. Best is trial 23 with value: 0.8459308590595785.\n",
      "[I 2024-06-21 22:49:34,764] Trial 25 finished with value: 0.8456751881557091 and parameters: {'learning_rate': 0.037198740131353, 'max_depth': 3, 'min_child_weight': 8.77021079780219, 'reg_lambda': 4.595586338590691, 'n_estimators': 143, 'max_leaves': 13}. Best is trial 23 with value: 0.8459308590595785.\n",
      "[I 2024-06-21 22:49:35,245] Trial 26 finished with value: 0.8449253921442672 and parameters: {'learning_rate': 0.03712045091347453, 'max_depth': 5, 'min_child_weight': 8.898991618253774, 'reg_lambda': 3.3367530347155103, 'n_estimators': 152, 'max_leaves': 16}. Best is trial 23 with value: 0.8459308590595785.\n",
      "[I 2024-06-21 22:49:35,672] Trial 27 finished with value: 0.8455820116181284 and parameters: {'learning_rate': 0.03206503918947562, 'max_depth': 3, 'min_child_weight': 8.083529159530025, 'reg_lambda': 5.932671587284467, 'n_estimators': 168, 'max_leaves': 9}. Best is trial 23 with value: 0.8459308590595785.\n",
      "[I 2024-06-21 22:49:36,138] Trial 28 finished with value: 0.8294016156044742 and parameters: {'learning_rate': 0.0016275613257553112, 'max_depth': 7, 'min_child_weight': 9.979929777100253, 'reg_lambda': 8.566175010263171, 'n_estimators': 184, 'max_leaves': 11}. Best is trial 23 with value: 0.8459308590595785.\n",
      "[I 2024-06-21 22:49:36,528] Trial 29 finished with value: 0.8455230304673274 and parameters: {'learning_rate': 0.04982152722874978, 'max_depth': 4, 'min_child_weight': 7.965437064584152, 'reg_lambda': 2.8700837989022823, 'n_estimators': 138, 'max_leaves': 8}. Best is trial 23 with value: 0.8459308590595785.\n",
      "[I 2024-06-21 22:49:36,847] Trial 30 finished with value: 0.8402781485288973 and parameters: {'learning_rate': 0.01898985428528743, 'max_depth': 5, 'min_child_weight': 9.349837752257432, 'reg_lambda': 4.197476554475405, 'n_estimators': 94, 'max_leaves': 13}. Best is trial 23 with value: 0.8459308590595785.\n",
      "[I 2024-06-21 22:49:37,217] Trial 31 finished with value: 0.8455829912102217 and parameters: {'learning_rate': 0.04532607819366208, 'max_depth': 3, 'min_child_weight': 8.745394068030455, 'reg_lambda': 6.815604712343195, 'n_estimators': 144, 'max_leaves': 12}. Best is trial 23 with value: 0.8459308590595785.\n",
      "[I 2024-06-21 22:49:37,517] Trial 32 finished with value: 0.8399738233276741 and parameters: {'learning_rate': 0.028576142471464457, 'max_depth': 2, 'min_child_weight': 7.601490711451974, 'reg_lambda': 4.997601092505566, 'n_estimators': 114, 'max_leaves': 12}. Best is trial 23 with value: 0.8459308590595785.\n",
      "[I 2024-06-21 22:49:37,845] Trial 33 finished with value: 0.8447976528828977 and parameters: {'learning_rate': 0.07869166196688003, 'max_depth': 3, 'min_child_weight': 8.488962772791032, 'reg_lambda': 8.234148230179706, 'n_estimators': 128, 'max_leaves': 16}. Best is trial 23 with value: 0.8459308590595785.\n",
      "[I 2024-06-21 22:49:38,277] Trial 34 finished with value: 0.8449328275210792 and parameters: {'learning_rate': 0.06049250581221704, 'max_depth': 4, 'min_child_weight': 6.816074433359448, 'reg_lambda': 2.6022979125730314, 'n_estimators': 137, 'max_leaves': 11}. Best is trial 23 with value: 0.8459308590595785.\n",
      "[I 2024-06-21 22:49:38,686] Trial 35 finished with value: 0.84127582178689 and parameters: {'learning_rate': 0.01435238763786982, 'max_depth': 4, 'min_child_weight': 9.205919855559081, 'reg_lambda': 5.757090793760288, 'n_estimators': 156, 'max_leaves': 8}. Best is trial 23 with value: 0.8459308590595785.\n",
      "[I 2024-06-21 22:49:39,012] Trial 36 finished with value: 0.8444797282019957 and parameters: {'learning_rate': 0.028125664856319142, 'max_depth': 3, 'min_child_weight': 7.676100569698654, 'reg_lambda': 1.6999994143777175, 'n_estimators': 116, 'max_leaves': 10}. Best is trial 23 with value: 0.8459308590595785.\n",
      "[I 2024-06-21 22:49:39,260] Trial 37 finished with value: 0.8410782344144354 and parameters: {'learning_rate': 0.042174598508155116, 'max_depth': 2, 'min_child_weight': 8.351618847728133, 'reg_lambda': 4.51310690887853, 'n_estimators': 87, 'max_leaves': 14}. Best is trial 23 with value: 0.8459308590595785.\n",
      "[I 2024-06-21 22:49:39,610] Trial 38 finished with value: 0.8446254969364041 and parameters: {'learning_rate': 0.0876092572079182, 'max_depth': 5, 'min_child_weight': 9.317189281785518, 'reg_lambda': 11.060372512298372, 'n_estimators': 132, 'max_leaves': 7}. Best is trial 23 with value: 0.8459308590595785.\n",
      "[I 2024-06-21 22:49:40,023] Trial 39 finished with value: 0.8427439862776548 and parameters: {'learning_rate': 0.015312599836327278, 'max_depth': 4, 'min_child_weight': 6.831397365574459, 'reg_lambda': 6.346063516243421, 'n_estimators': 145, 'max_leaves': 15}. Best is trial 23 with value: 0.8459308590595785.\n",
      "[I 2024-06-21 22:49:40,260] Trial 40 finished with value: 0.8445342906736775 and parameters: {'learning_rate': 0.05697097866219592, 'max_depth': 3, 'min_child_weight': 7.516179512009739, 'reg_lambda': 8.080472079777126, 'n_estimators': 68, 'max_leaves': 20}. Best is trial 23 with value: 0.8459308590595785.\n",
      "[I 2024-06-21 22:49:40,656] Trial 41 finished with value: 0.8457713358763771 and parameters: {'learning_rate': 0.042590415281646116, 'max_depth': 3, 'min_child_weight': 8.735927136466668, 'reg_lambda': 7.463779179856857, 'n_estimators': 150, 'max_leaves': 12}. Best is trial 23 with value: 0.8459308590595785.\n",
      "[I 2024-06-21 22:49:41,089] Trial 42 finished with value: 0.8440160962999291 and parameters: {'learning_rate': 0.06897346845573588, 'max_depth': 4, 'min_child_weight': 9.032153332876767, 'reg_lambda': 9.74459421594027, 'n_estimators': 152, 'max_leaves': 12}. Best is trial 23 with value: 0.8459308590595785.\n",
      "[I 2024-06-21 22:49:41,464] Trial 43 finished with value: 0.8340570510595141 and parameters: {'learning_rate': 0.023853548236745587, 'max_depth': 1, 'min_child_weight': 9.58690935056491, 'reg_lambda': 7.527940811500906, 'n_estimators': 166, 'max_leaves': 10}. Best is trial 23 with value: 0.8459308590595785.\n",
      "[I 2024-06-21 22:49:41,810] Trial 44 finished with value: 0.8432861058787272 and parameters: {'learning_rate': 0.04058138519160866, 'max_depth': 2, 'min_child_weight': 8.341084624488689, 'reg_lambda': 5.193425931973139, 'n_estimators': 126, 'max_leaves': 13}. Best is trial 23 with value: 0.8459308590595785.\n",
      "[I 2024-06-21 22:49:42,245] Trial 45 finished with value: 0.845893931081719 and parameters: {'learning_rate': 0.05059710008062379, 'max_depth': 3, 'min_child_weight': 7.147313755364692, 'reg_lambda': 3.8378466028165046, 'n_estimators': 136, 'max_leaves': 8}. Best is trial 23 with value: 0.8459308590595785.\n",
      "[I 2024-06-21 22:49:42,611] Trial 46 finished with value: 0.8456104146196727 and parameters: {'learning_rate': 0.05061739256671996, 'max_depth': 4, 'min_child_weight': 9.96222764694437, 'reg_lambda': 3.615089674660553, 'n_estimators': 111, 'max_leaves': 7}. Best is trial 23 with value: 0.8459308590595785.\n",
      "[I 2024-06-21 22:49:43,063] Trial 47 finished with value: 0.8332973261363689 and parameters: {'learning_rate': 0.006822870074823108, 'max_depth': 6, 'min_child_weight': 7.17188294048937, 'reg_lambda': 0.705118209250756, 'n_estimators': 132, 'max_leaves': 8}. Best is trial 23 with value: 0.8459308590595785.\n",
      "[I 2024-06-21 22:49:43,495] Trial 48 finished with value: 0.8453686418194697 and parameters: {'learning_rate': 0.054871632074376835, 'max_depth': 2, 'min_child_weight': 6.242987361826306, 'reg_lambda': 1.9061184577379926, 'n_estimators': 160, 'max_leaves': 6}. Best is trial 23 with value: 0.8459308590595785.\n",
      "[I 2024-06-21 22:49:44,003] Trial 49 finished with value: 0.8426054414975596 and parameters: {'learning_rate': 0.08293821841146773, 'max_depth': 6, 'min_child_weight': 6.401146473049021, 'reg_lambda': 5.499179155815324, 'n_estimators': 179, 'max_leaves': 9}. Best is trial 23 with value: 0.8459308590595785.\n",
      "[I 2024-06-21 22:49:44,363] Trial 50 finished with value: 0.8455823738782442 and parameters: {'learning_rate': 0.1114968878583219, 'max_depth': 3, 'min_child_weight': 9.53402660805078, 'reg_lambda': 10.246675230680482, 'n_estimators': 121, 'max_leaves': 5}. Best is trial 23 with value: 0.8459308590595785.\n",
      "[I 2024-06-21 22:49:44,790] Trial 51 finished with value: 0.8455831807721962 and parameters: {'learning_rate': 0.04896025003716311, 'max_depth': 4, 'min_child_weight': 9.925777708628159, 'reg_lambda': 3.814385205133996, 'n_estimators': 151, 'max_leaves': 7}. Best is trial 23 with value: 0.8459308590595785.\n",
      "[I 2024-06-21 22:49:45,138] Trial 52 finished with value: 0.8452057246798689 and parameters: {'learning_rate': 0.06571967960573458, 'max_depth': 4, 'min_child_weight': 8.650257503755173, 'reg_lambda': 3.4803096988952578, 'n_estimators': 111, 'max_leaves': 8}. Best is trial 23 with value: 0.8459308590595785.\n",
      "[I 2024-06-21 22:49:45,449] Trial 53 finished with value: 0.8444311988219231 and parameters: {'learning_rate': 0.04917115105495799, 'max_depth': 5, 'min_child_weight': 9.589266970259061, 'reg_lambda': 9.09818379908069, 'n_estimators': 103, 'max_leaves': 5}. Best is trial 23 with value: 0.8459308590595785.\n",
      "[I 2024-06-21 22:49:45,752] Trial 54 finished with value: 0.8442000020766266 and parameters: {'learning_rate': 0.030582146827276564, 'max_depth': 3, 'min_child_weight': 9.083530455911518, 'reg_lambda': 4.357176934793059, 'n_estimators': 108, 'max_leaves': 10}. Best is trial 23 with value: 0.8459308590595785.\n",
      "[I 2024-06-21 22:49:46,163] Trial 55 finished with value: 0.8454954534096203 and parameters: {'learning_rate': 0.036389705059398536, 'max_depth': 5, 'min_child_weight': 7.8754043268596945, 'reg_lambda': 2.6301728038927927, 'n_estimators': 133, 'max_leaves': 7}. Best is trial 23 with value: 0.8459308590595785.\n",
      "[I 2024-06-21 22:49:46,533] Trial 56 finished with value: 0.8443454977063701 and parameters: {'learning_rate': 0.09210191129986021, 'max_depth': 4, 'min_child_weight': 5.734366821416705, 'reg_lambda': 6.2731451837057435, 'n_estimators': 121, 'max_leaves': 7}. Best is trial 23 with value: 0.8459308590595785.\n",
      "[I 2024-06-21 22:49:46,849] Trial 57 finished with value: 0.8457881286512965 and parameters: {'learning_rate': 0.07134597513931967, 'max_depth': 3, 'min_child_weight': 8.35539278595582, 'reg_lambda': 4.854850389829948, 'n_estimators': 91, 'max_leaves': 11}. Best is trial 23 with value: 0.8459308590595785.\n",
      "[I 2024-06-21 22:49:47,146] Trial 58 finished with value: 0.8434609290668192 and parameters: {'learning_rate': 0.06014757243973313, 'max_depth': 2, 'min_child_weight': 8.304477959808779, 'reg_lambda': 7.950605543385121, 'n_estimators': 91, 'max_leaves': 11}. Best is trial 23 with value: 0.8459308590595785.\n",
      "[I 2024-06-21 22:49:47,432] Trial 59 finished with value: 0.8456672360855335 and parameters: {'learning_rate': 0.07281865933133205, 'max_depth': 3, 'min_child_weight': 7.427839869372236, 'reg_lambda': 4.8857856111541516, 'n_estimators': 76, 'max_leaves': 10}. Best is trial 23 with value: 0.8459308590595785.\n",
      "[I 2024-06-21 22:49:47,679] Trial 60 finished with value: 0.8377032790690732 and parameters: {'learning_rate': 0.07403057556201612, 'max_depth': 1, 'min_child_weight': 7.09974947421206, 'reg_lambda': 4.84260285530738, 'n_estimators': 81, 'max_leaves': 14}. Best is trial 23 with value: 0.8459308590595785.\n",
      "[I 2024-06-21 22:49:47,938] Trial 61 finished with value: 0.8450875170762141 and parameters: {'learning_rate': 0.10617633154982889, 'max_depth': 3, 'min_child_weight': 6.563354832708979, 'reg_lambda': 6.431576645966833, 'n_estimators': 69, 'max_leaves': 11}. Best is trial 23 with value: 0.8459308590595785.\n",
      "[I 2024-06-21 22:49:48,235] Trial 62 finished with value: 0.8450905376016279 and parameters: {'learning_rate': 0.04253973267277364, 'max_depth': 3, 'min_child_weight': 7.364078204209794, 'reg_lambda': 5.540521993365612, 'n_estimators': 95, 'max_leaves': 9}. Best is trial 23 with value: 0.8459308590595785.\n",
      "[I 2024-06-21 22:49:48,480] Trial 63 finished with value: 0.8450214317398017 and parameters: {'learning_rate': 0.0692245808114623, 'max_depth': 3, 'min_child_weight': 7.870633728053595, 'reg_lambda': 7.390742793298879, 'n_estimators': 63, 'max_leaves': 10}. Best is trial 23 with value: 0.8459308590595785.\n",
      "[I 2024-06-21 22:49:48,733] Trial 64 finished with value: 0.8349675346351072 and parameters: {'learning_rate': 0.02447763592895955, 'max_depth': 2, 'min_child_weight': 8.604446917946522, 'reg_lambda': 9.018089483077611, 'n_estimators': 75, 'max_leaves': 13}. Best is trial 23 with value: 0.8459308590595785.\n",
      "[I 2024-06-21 22:49:49,130] Trial 65 finished with value: 0.8456397807419732 and parameters: {'learning_rate': 0.06166462308858272, 'max_depth': 3, 'min_child_weight': 8.120074185863508, 'reg_lambda': 4.308163946068852, 'n_estimators': 145, 'max_leaves': 9}. Best is trial 23 with value: 0.8459308590595785.\n",
      "[I 2024-06-21 22:49:49,465] Trial 66 finished with value: 0.8436742782541264 and parameters: {'learning_rate': 0.034857323187465206, 'max_depth': 2, 'min_child_weight': 8.913354644454566, 'reg_lambda': 1.1132352622779376, 'n_estimators': 140, 'max_leaves': 11}. Best is trial 23 with value: 0.8459308590595785.\n",
      "[I 2024-06-21 22:49:49,781] Trial 67 finished with value: 0.8458835372456379 and parameters: {'learning_rate': 0.0743745610405038, 'max_depth': 6, 'min_child_weight': 9.273567063135008, 'reg_lambda': 19.765355653130356, 'n_estimators': 86, 'max_leaves': 12}. Best is trial 23 with value: 0.8459308590595785.\n",
      "[I 2024-06-21 22:49:50,093] Trial 68 finished with value: 0.8450153475123097 and parameters: {'learning_rate': 0.08255532563169109, 'max_depth': 8, 'min_child_weight': 5.119223788883168, 'reg_lambda': 18.6462532458331, 'n_estimators': 76, 'max_leaves': 14}. Best is trial 23 with value: 0.8459308590595785.\n",
      "[I 2024-06-21 22:49:50,356] Trial 69 finished with value: 0.8454297828787846 and parameters: {'learning_rate': 0.07504603266143678, 'max_depth': 7, 'min_child_weight': 9.319101414444775, 'reg_lambda': 11.64769351684031, 'n_estimators': 58, 'max_leaves': 12}. Best is trial 23 with value: 0.8459308590595785.\n",
      "[I 2024-06-21 22:49:50,705] Trial 70 finished with value: 0.8442752566502328 and parameters: {'learning_rate': 0.08803491988120918, 'max_depth': 6, 'min_child_weight': 1.529949099070091, 'reg_lambda': 19.912094723651276, 'n_estimators': 98, 'max_leaves': 15}. Best is trial 23 with value: 0.8459308590595785.\n",
      "[I 2024-06-21 22:49:51,034] Trial 71 finished with value: 0.8463680519805736 and parameters: {'learning_rate': 0.0548065859256021, 'max_depth': 6, 'min_child_weight': 8.62157257026624, 'reg_lambda': 12.680647159901094, 'n_estimators': 89, 'max_leaves': 10}. Best is trial 71 with value: 0.8463680519805736.\n",
      "[I 2024-06-21 22:49:51,342] Trial 72 finished with value: 0.8463303431809859 and parameters: {'learning_rate': 0.05498669476752267, 'max_depth': 7, 'min_child_weight': 8.463576498424388, 'reg_lambda': 12.563319101238825, 'n_estimators': 87, 'max_leaves': 10}. Best is trial 71 with value: 0.8463680519805736.\n",
      "[I 2024-06-21 22:49:51,675] Trial 73 finished with value: 0.8461994432462395 and parameters: {'learning_rate': 0.05333344548192349, 'max_depth': 7, 'min_child_weight': 9.676719354642985, 'reg_lambda': 14.103867428827176, 'n_estimators': 89, 'max_leaves': 12}. Best is trial 71 with value: 0.8463680519805736.\n",
      "[I 2024-06-21 22:49:52,020] Trial 74 finished with value: 0.8460795645446199 and parameters: {'learning_rate': 0.05511129253732726, 'max_depth': 7, 'min_child_weight': 9.678938977096571, 'reg_lambda': 12.830131751236445, 'n_estimators': 88, 'max_leaves': 12}. Best is trial 71 with value: 0.8463680519805736.\n",
      "[I 2024-06-21 22:49:52,382] Trial 75 finished with value: 0.8462118081336488 and parameters: {'learning_rate': 0.05596244368329457, 'max_depth': 7, 'min_child_weight': 9.608672728678686, 'reg_lambda': 13.005578805505097, 'n_estimators': 86, 'max_leaves': 11}. Best is trial 71 with value: 0.8463680519805736.\n",
      "[I 2024-06-21 22:49:52,732] Trial 76 finished with value: 0.846178470464411 and parameters: {'learning_rate': 0.05712776534786585, 'max_depth': 7, 'min_child_weight': 9.696804436115869, 'reg_lambda': 12.723479700005868, 'n_estimators': 85, 'max_leaves': 12}. Best is trial 71 with value: 0.8463680519805736.\n",
      "[I 2024-06-21 22:49:53,066] Trial 77 finished with value: 0.8463346405299371 and parameters: {'learning_rate': 0.05762376693958533, 'max_depth': 7, 'min_child_weight': 9.675871117994342, 'reg_lambda': 12.740303352169649, 'n_estimators': 83, 'max_leaves': 10}. Best is trial 71 with value: 0.8463680519805736.\n",
      "[I 2024-06-21 22:49:53,399] Trial 78 finished with value: 0.8463248700396071 and parameters: {'learning_rate': 0.06600991674974749, 'max_depth': 7, 'min_child_weight': 9.642812568677918, 'reg_lambda': 12.60453913249397, 'n_estimators': 82, 'max_leaves': 10}. Best is trial 71 with value: 0.8463680519805736.\n",
      "[I 2024-06-21 22:49:53,730] Trial 79 finished with value: 0.8460487639709168 and parameters: {'learning_rate': 0.05683107755673741, 'max_depth': 7, 'min_child_weight': 9.750721986485836, 'reg_lambda': 12.566575016400769, 'n_estimators': 82, 'max_leaves': 10}. Best is trial 71 with value: 0.8463680519805736.\n",
      "[I 2024-06-21 22:49:54,074] Trial 80 finished with value: 0.8454692530290733 and parameters: {'learning_rate': 0.06502621720915067, 'max_depth': 7, 'min_child_weight': 9.46715536407755, 'reg_lambda': 14.54860532694034, 'n_estimators': 89, 'max_leaves': 13}. Best is trial 71 with value: 0.8463680519805736.\n",
      "[I 2024-06-21 22:49:54,403] Trial 81 finished with value: 0.8465617276144976 and parameters: {'learning_rate': 0.05594968070748733, 'max_depth': 7, 'min_child_weight': 9.842251887064705, 'reg_lambda': 12.45019201939351, 'n_estimators': 83, 'max_leaves': 11}. Best is trial 81 with value: 0.8465617276144976.\n",
      "[I 2024-06-21 22:49:54,730] Trial 82 finished with value: 0.8458091822368624 and parameters: {'learning_rate': 0.06529309072663425, 'max_depth': 8, 'min_child_weight': 9.710891440753477, 'reg_lambda': 12.475912136864508, 'n_estimators': 98, 'max_leaves': 11}. Best is trial 81 with value: 0.8465617276144976.\n",
      "[I 2024-06-21 22:49:55,032] Trial 83 finished with value: 0.845377901389602 and parameters: {'learning_rate': 0.054994171521548126, 'max_depth': 7, 'min_child_weight': 9.15004111916645, 'reg_lambda': 13.734183929933613, 'n_estimators': 71, 'max_leaves': 10}. Best is trial 81 with value: 0.8465617276144976.\n",
      "[I 2024-06-21 22:49:55,354] Trial 84 finished with value: 0.8456600336794512 and parameters: {'learning_rate': 0.0455630676283003, 'max_depth': 7, 'min_child_weight': 9.981626992078303, 'reg_lambda': 14.631447979874823, 'n_estimators': 84, 'max_leaves': 12}. Best is trial 81 with value: 0.8465617276144976.\n",
      "[I 2024-06-21 22:49:55,649] Trial 85 finished with value: 0.8461921684683368 and parameters: {'learning_rate': 0.05358116556001091, 'max_depth': 8, 'min_child_weight': 9.692993367097282, 'reg_lambda': 13.250771430181103, 'n_estimators': 79, 'max_leaves': 11}. Best is trial 81 with value: 0.8465617276144976.\n",
      "[I 2024-06-21 22:49:55,963] Trial 86 finished with value: 0.8436735674662786 and parameters: {'learning_rate': 0.13129007816519184, 'max_depth': 8, 'min_child_weight': 9.016955677806143, 'reg_lambda': 13.331274646500077, 'n_estimators': 79, 'max_leaves': 11}. Best is trial 81 with value: 0.8465617276144976.\n",
      "[I 2024-06-21 22:49:56,231] Trial 87 finished with value: 0.8447736908049754 and parameters: {'learning_rate': 0.05980241960152872, 'max_depth': 8, 'min_child_weight': 9.430259558831796, 'reg_lambda': 15.568146397147935, 'n_estimators': 61, 'max_leaves': 9}. Best is trial 81 with value: 0.8465617276144976.\n",
      "[I 2024-06-21 22:49:56,473] Trial 88 finished with value: 0.8433679545829413 and parameters: {'learning_rate': 0.05148853547304525, 'max_depth': 7, 'min_child_weight': 9.779505449567836, 'reg_lambda': 12.014133696042581, 'n_estimators': 51, 'max_leaves': 10}. Best is trial 81 with value: 0.8465617276144976.\n",
      "[I 2024-06-21 22:49:56,785] Trial 89 finished with value: 0.8448570956832558 and parameters: {'learning_rate': 0.07864386455099048, 'max_depth': 7, 'min_child_weight': 4.167768046252663, 'reg_lambda': 11.154183021514113, 'n_estimators': 73, 'max_leaves': 13}. Best is trial 81 with value: 0.8465617276144976.\n",
      "[I 2024-06-21 22:49:57,076] Trial 90 finished with value: 0.846235598994693 and parameters: {'learning_rate': 0.0672885132632931, 'max_depth': 8, 'min_child_weight': 9.23744900786099, 'reg_lambda': 10.689293386772004, 'n_estimators': 65, 'max_leaves': 11}. Best is trial 81 with value: 0.8465617276144976.\n",
      "[I 2024-06-21 22:49:57,339] Trial 91 finished with value: 0.842758992566529 and parameters: {'learning_rate': 0.0669538551328958, 'max_depth': 8, 'min_child_weight': 9.399040039317722, 'reg_lambda': 12.144260577493242, 'n_estimators': 36, 'max_leaves': 11}. Best is trial 81 with value: 0.8465617276144976.\n",
      "[I 2024-06-21 22:49:57,648] Trial 92 finished with value: 0.8455656355942303 and parameters: {'learning_rate': 0.05987096872840107, 'max_depth': 8, 'min_child_weight': 9.064237660838325, 'reg_lambda': 10.633294595997077, 'n_estimators': 68, 'max_leaves': 10}. Best is trial 81 with value: 0.8465617276144976.\n",
      "[I 2024-06-21 22:49:57,948] Trial 93 finished with value: 0.8444420706184932 and parameters: {'learning_rate': 0.046824815049135486, 'max_depth': 7, 'min_child_weight': 9.790248179639203, 'reg_lambda': 14.152600417702276, 'n_estimators': 64, 'max_leaves': 11}. Best is trial 81 with value: 0.8465617276144976.\n",
      "[I 2024-06-21 22:49:58,333] Trial 94 finished with value: 0.845789323413407 and parameters: {'learning_rate': 0.0530096181420931, 'max_depth': 7, 'min_child_weight': 9.495416916741652, 'reg_lambda': 13.402156106594964, 'n_estimators': 94, 'max_leaves': 12}. Best is trial 81 with value: 0.8465617276144976.\n",
      "[I 2024-06-21 22:49:58,704] Trial 95 finished with value: 0.8461356909976979 and parameters: {'learning_rate': 0.06423763734362711, 'max_depth': 6, 'min_child_weight': 8.891177770538649, 'reg_lambda': 15.409754891877768, 'n_estimators': 82, 'max_leaves': 9}. Best is trial 81 with value: 0.8465617276144976.\n",
      "[I 2024-06-21 22:49:59,051] Trial 96 finished with value: 0.8445868004250995 and parameters: {'learning_rate': 0.04051361653661559, 'max_depth': 8, 'min_child_weight': 8.516945678965868, 'reg_lambda': 13.011461866504456, 'n_estimators': 79, 'max_leaves': 10}. Best is trial 81 with value: 0.8465617276144976.\n",
      "[I 2024-06-21 22:49:59,472] Trial 97 finished with value: 0.84620654149828 and parameters: {'learning_rate': 0.05760711720159398, 'max_depth': 7, 'min_child_weight': 9.580305360624184, 'reg_lambda': 14.17415866759508, 'n_estimators': 100, 'max_leaves': 11}. Best is trial 81 with value: 0.8465617276144976.\n",
      "[I 2024-06-21 22:49:59,794] Trial 98 finished with value: 0.8452745297146205 and parameters: {'learning_rate': 0.08310024535847671, 'max_depth': 8, 'min_child_weight': 9.234603608043962, 'reg_lambda': 13.930393767195149, 'n_estimators': 101, 'max_leaves': 11}. Best is trial 81 with value: 0.8465617276144976.\n",
      "[I 2024-06-21 22:50:00,182] Trial 99 finished with value: 0.8463739546855121 and parameters: {'learning_rate': 0.04567918646909237, 'max_depth': 7, 'min_child_weight': 9.904426287684288, 'reg_lambda': 11.248223767899102, 'n_estimators': 107, 'max_leaves': 10}. Best is trial 81 with value: 0.8465617276144976.\n",
      "[I 2024-06-21 22:50:00,547] Trial 100 finished with value: 0.8460891296262245 and parameters: {'learning_rate': 0.04570813930403553, 'max_depth': 7, 'min_child_weight': 9.987116518615062, 'reg_lambda': 16.84642077186651, 'n_estimators': 105, 'max_leaves': 9}. Best is trial 81 with value: 0.8465617276144976.\n",
      "[I 2024-06-21 22:50:00,876] Trial 101 finished with value: 0.8463234573685262 and parameters: {'learning_rate': 0.05235208654625014, 'max_depth': 7, 'min_child_weight': 9.185973359789584, 'reg_lambda': 12.194860997692881, 'n_estimators': 97, 'max_leaves': 10}. Best is trial 81 with value: 0.8465617276144976.\n",
      "[I 2024-06-21 22:50:01,214] Trial 102 finished with value: 0.8456095510402459 and parameters: {'learning_rate': 0.06177539655578026, 'max_depth': 6, 'min_child_weight': 9.266931710820582, 'reg_lambda': 11.287691839418194, 'n_estimators': 107, 'max_leaves': 10}. Best is trial 81 with value: 0.8465617276144976.\n",
      "[I 2024-06-21 22:50:01,544] Trial 103 finished with value: 0.8441624410719265 and parameters: {'learning_rate': 0.03308378246927551, 'max_depth': 7, 'min_child_weight': 9.489668849698786, 'reg_lambda': 12.045793405524108, 'n_estimators': 99, 'max_leaves': 9}. Best is trial 81 with value: 0.8465617276144976.\n",
      "[I 2024-06-21 22:50:01,863] Trial 104 finished with value: 0.8459527146226077 and parameters: {'learning_rate': 0.06968229840710641, 'max_depth': 7, 'min_child_weight': 8.90161483257112, 'reg_lambda': 10.80740774954131, 'n_estimators': 92, 'max_leaves': 10}. Best is trial 81 with value: 0.8465617276144976.\n",
      "[I 2024-06-21 22:50:02,245] Trial 105 finished with value: 0.8456886581770794 and parameters: {'learning_rate': 0.049121072373547806, 'max_depth': 7, 'min_child_weight': 9.121597763716219, 'reg_lambda': 9.941711183331186, 'n_estimators': 114, 'max_leaves': 11}. Best is trial 81 with value: 0.8465617276144976.\n",
      "[I 2024-06-21 22:50:02,579] Trial 106 finished with value: 0.8450237702885449 and parameters: {'learning_rate': 0.0380723063876935, 'max_depth': 6, 'min_child_weight': 8.723908526972394, 'reg_lambda': 14.376942278834322, 'n_estimators': 95, 'max_leaves': 10}. Best is trial 81 with value: 0.8465617276144976.\n",
      "[I 2024-06-21 22:50:02,883] Trial 107 finished with value: 0.8445602183420554 and parameters: {'learning_rate': 0.04414664174423342, 'max_depth': 7, 'min_child_weight': 3.1589679728033317, 'reg_lambda': 11.582132694057236, 'n_estimators': 89, 'max_leaves': 8}. Best is trial 81 with value: 0.8465617276144976.\n",
      "[I 2024-06-21 22:50:03,236] Trial 108 finished with value: 0.8464524368434431 and parameters: {'learning_rate': 0.05814747749308241, 'max_depth': 7, 'min_child_weight': 9.562770436762776, 'reg_lambda': 15.077610750423966, 'n_estimators': 105, 'max_leaves': 9}. Best is trial 81 with value: 0.8465617276144976.\n",
      "[I 2024-06-21 22:50:03,577] Trial 109 finished with value: 0.8459117520145832 and parameters: {'learning_rate': 0.06024069922734189, 'max_depth': 6, 'min_child_weight': 9.852590324107046, 'reg_lambda': 10.300685164592108, 'n_estimators': 102, 'max_leaves': 9}. Best is trial 81 with value: 0.8465617276144976.\n",
      "[I 2024-06-21 22:50:03,912] Trial 110 finished with value: 0.845727898006872 and parameters: {'learning_rate': 0.06878763904093796, 'max_depth': 7, 'min_child_weight': 8.513869660354281, 'reg_lambda': 12.278180642476116, 'n_estimators': 109, 'max_leaves': 8}. Best is trial 81 with value: 0.8465617276144976.\n",
      "[I 2024-06-21 22:50:04,245] Trial 111 finished with value: 0.8464434993994914 and parameters: {'learning_rate': 0.05708294773522565, 'max_depth': 7, 'min_child_weight': 9.46405698776493, 'reg_lambda': 14.79485068635652, 'n_estimators': 96, 'max_leaves': 11}. Best is trial 81 with value: 0.8465617276144976.\n",
      "[I 2024-06-21 22:50:04,578] Trial 112 finished with value: 0.8461376212990217 and parameters: {'learning_rate': 0.04899141572954426, 'max_depth': 7, 'min_child_weight': 9.379969760330017, 'reg_lambda': 15.005366600202297, 'n_estimators': 97, 'max_leaves': 10}. Best is trial 81 with value: 0.8465617276144976.\n",
      "[I 2024-06-21 22:50:04,940] Trial 113 finished with value: 0.8454404168683389 and parameters: {'learning_rate': 0.07702550046397715, 'max_depth': 7, 'min_child_weight': 9.540575099404514, 'reg_lambda': 16.41649438169459, 'n_estimators': 104, 'max_leaves': 10}. Best is trial 81 with value: 0.8465617276144976.\n",
      "[I 2024-06-21 22:50:05,291] Trial 114 finished with value: 0.8461423875604762 and parameters: {'learning_rate': 0.05671237436723698, 'max_depth': 7, 'min_child_weight': 9.137086040455438, 'reg_lambda': 15.015587763206682, 'n_estimators': 115, 'max_leaves': 9}. Best is trial 81 with value: 0.8465617276144976.\n",
      "[I 2024-06-21 22:50:05,628] Trial 115 finished with value: 0.8463578618398638 and parameters: {'learning_rate': 0.06366135212751357, 'max_depth': 6, 'min_child_weight': 8.977554578992773, 'reg_lambda': 13.637654631422679, 'n_estimators': 85, 'max_leaves': 11}. Best is trial 81 with value: 0.8465617276144976.\n",
      "[I 2024-06-21 22:50:05,947] Trial 116 finished with value: 0.8462938087727648 and parameters: {'learning_rate': 0.06324255319814641, 'max_depth': 6, 'min_child_weight': 8.221450498474985, 'reg_lambda': 13.673006481544153, 'n_estimators': 93, 'max_leaves': 11}. Best is trial 81 with value: 0.8465617276144976.\n",
      "[I 2024-06-21 22:50:06,260] Trial 117 finished with value: 0.8462296956651683 and parameters: {'learning_rate': 0.06294536099407506, 'max_depth': 6, 'min_child_weight': 8.3224631770761, 'reg_lambda': 11.742079736575622, 'n_estimators': 94, 'max_leaves': 9}. Best is trial 81 with value: 0.8465617276144976.\n",
      "[I 2024-06-21 22:50:06,564] Trial 118 finished with value: 0.846113883215529 and parameters: {'learning_rate': 0.06830715421329155, 'max_depth': 6, 'min_child_weight': 8.822352975324453, 'reg_lambda': 13.698758327746663, 'n_estimators': 83, 'max_leaves': 10}. Best is trial 81 with value: 0.8465617276144976.\n",
      "[I 2024-06-21 22:50:06,855] Trial 119 finished with value: 0.8459281623822168 and parameters: {'learning_rate': 0.06437857380797757, 'max_depth': 6, 'min_child_weight': 8.957320779087711, 'reg_lambda': 10.881477382366251, 'n_estimators': 73, 'max_leaves': 11}. Best is trial 81 with value: 0.8465617276144976.\n",
      "[I 2024-06-21 22:50:07,178] Trial 120 finished with value: 0.841944684345294 and parameters: {'learning_rate': 0.14898419194689227, 'max_depth': 6, 'min_child_weight': 8.059339399142942, 'reg_lambda': 12.623929301295261, 'n_estimators': 91, 'max_leaves': 12}. Best is trial 81 with value: 0.8465617276144976.\n",
      "[I 2024-06-21 22:50:07,528] Trial 121 finished with value: 0.8459815447695685 and parameters: {'learning_rate': 0.061772121154068306, 'max_depth': 6, 'min_child_weight': 8.236547584247768, 'reg_lambda': 11.792986140272435, 'n_estimators': 94, 'max_leaves': 9}. Best is trial 81 with value: 0.8465617276144976.\n",
      "[I 2024-06-21 22:50:07,900] Trial 122 finished with value: 0.8462442299186069 and parameters: {'learning_rate': 0.05192170134750289, 'max_depth': 6, 'min_child_weight': 8.61825514432002, 'reg_lambda': 11.474905398192929, 'n_estimators': 96, 'max_leaves': 10}. Best is trial 81 with value: 0.8465617276144976.\n",
      "[I 2024-06-21 22:50:08,245] Trial 123 finished with value: 0.846124420938574 and parameters: {'learning_rate': 0.047741282424012425, 'max_depth': 6, 'min_child_weight': 8.544005557985276, 'reg_lambda': 13.589140597901402, 'n_estimators': 106, 'max_leaves': 10}. Best is trial 81 with value: 0.8465617276144976.\n",
      "[I 2024-06-21 22:50:08,595] Trial 124 finished with value: 0.8456018223399133 and parameters: {'learning_rate': 0.07259401318847059, 'max_depth': 5, 'min_child_weight': 8.696166083510835, 'reg_lambda': 11.404992055615821, 'n_estimators': 86, 'max_leaves': 11}. Best is trial 81 with value: 0.8465617276144976.\n",
      "[I 2024-06-21 22:50:08,980] Trial 125 finished with value: 0.8462851866732631 and parameters: {'learning_rate': 0.05209770559420679, 'max_depth': 6, 'min_child_weight': 9.314920801790352, 'reg_lambda': 12.297057685196828, 'n_estimators': 112, 'max_leaves': 10}. Best is trial 81 with value: 0.8465617276144976.\n",
      "[I 2024-06-21 22:50:09,363] Trial 126 finished with value: 0.8459325668477367 and parameters: {'learning_rate': 0.03968399094605363, 'max_depth': 6, 'min_child_weight': 7.787378578515817, 'reg_lambda': 12.408358089496595, 'n_estimators': 111, 'max_leaves': 10}. Best is trial 81 with value: 0.8465617276144976.\n",
      "[I 2024-06-21 22:50:09,913] Trial 127 finished with value: 0.8453160422794932 and parameters: {'learning_rate': 0.05218800198042961, 'max_depth': 6, 'min_child_weight': 9.998932007113535, 'reg_lambda': 13.088618445308855, 'n_estimators': 198, 'max_leaves': 8}. Best is trial 81 with value: 0.8465617276144976.\n",
      "[I 2024-06-21 22:50:10,320] Trial 128 finished with value: 0.8404357933401663 and parameters: {'learning_rate': 0.19191107190836454, 'max_depth': 6, 'min_child_weight': 9.011051420380765, 'reg_lambda': 12.871150076114658, 'n_estimators': 117, 'max_leaves': 9}. Best is trial 81 with value: 0.8465617276144976.\n",
      "[I 2024-06-21 22:50:10,644] Trial 129 finished with value: 0.845630399136884 and parameters: {'learning_rate': 0.042667983824263477, 'max_depth': 7, 'min_child_weight': 9.362586961499993, 'reg_lambda': 16.005607139247427, 'n_estimators': 97, 'max_leaves': 10}. Best is trial 81 with value: 0.8465617276144976.\n",
      "[I 2024-06-21 22:50:10,970] Trial 130 finished with value: 0.8457328578901127 and parameters: {'learning_rate': 0.053051850986655234, 'max_depth': 7, 'min_child_weight': 9.833310287719186, 'reg_lambda': 12.057570696587783, 'n_estimators': 77, 'max_leaves': 10}. Best is trial 81 with value: 0.8465617276144976.\n",
      "[I 2024-06-21 22:50:11,359] Trial 131 finished with value: 0.8459488138860247 and parameters: {'learning_rate': 0.059018052020692, 'max_depth': 8, 'min_child_weight': 9.221803090875044, 'reg_lambda': 11.295913640496837, 'n_estimators': 102, 'max_leaves': 11}. Best is trial 81 with value: 0.8465617276144976.\n",
      "[I 2024-06-21 22:50:11,711] Trial 132 finished with value: 0.8458867708352189 and parameters: {'learning_rate': 0.0513382655021103, 'max_depth': 6, 'min_child_weight': 9.187688775873543, 'reg_lambda': 14.742004727288615, 'n_estimators': 92, 'max_leaves': 11}. Best is trial 81 with value: 0.8465617276144976.\n",
      "[I 2024-06-21 22:50:12,065] Trial 133 finished with value: 0.8440354255543142 and parameters: {'learning_rate': 0.06567134710682446, 'max_depth': 7, 'min_child_weight': 8.681264102810935, 'reg_lambda': 12.513243169145971, 'n_estimators': 82, 'max_leaves': 18}. Best is trial 81 with value: 0.8465617276144976.\n",
      "[I 2024-06-21 22:50:12,412] Trial 134 finished with value: 0.845455174411418 and parameters: {'learning_rate': 0.04636376147638532, 'max_depth': 6, 'min_child_weight': 9.413872430188809, 'reg_lambda': 9.580329781183268, 'n_estimators': 88, 'max_leaves': 11}. Best is trial 81 with value: 0.8465617276144976.\n",
      "[I 2024-06-21 22:50:12,764] Trial 135 finished with value: 0.8461585784661905 and parameters: {'learning_rate': 0.07150776362815606, 'max_depth': 7, 'min_child_weight': 8.90611598081944, 'reg_lambda': 13.23055830747479, 'n_estimators': 97, 'max_leaves': 9}. Best is trial 81 with value: 0.8465617276144976.\n",
      "[I 2024-06-21 22:50:13,049] Trial 136 finished with value: 0.8433671080277526 and parameters: {'learning_rate': 0.05547562508450283, 'max_depth': 7, 'min_child_weight': 8.482398448954635, 'reg_lambda': 10.240259739832617, 'n_estimators': 53, 'max_leaves': 10}. Best is trial 81 with value: 0.8465617276144976.\n",
      "[I 2024-06-21 22:50:13,345] Trial 137 finished with value: 0.8433653732936595 and parameters: {'learning_rate': 0.05910999703035793, 'max_depth': 5, 'min_child_weight': 8.169325839666426, 'reg_lambda': 13.814715951316934, 'n_estimators': 44, 'max_leaves': 12}. Best is trial 81 with value: 0.8465617276144976.\n",
      "[I 2024-06-21 22:50:13,804] Trial 138 finished with value: 0.8450266591781149 and parameters: {'learning_rate': 0.08084249642053778, 'max_depth': 8, 'min_child_weight': 9.807999115284197, 'reg_lambda': 10.514893335716927, 'n_estimators': 110, 'max_leaves': 11}. Best is trial 81 with value: 0.8465617276144976.\n",
      "[I 2024-06-21 22:50:14,145] Trial 139 finished with value: 0.8457866815477608 and parameters: {'learning_rate': 0.04936670812613187, 'max_depth': 7, 'min_child_weight': 9.575521878515872, 'reg_lambda': 11.675892908746178, 'n_estimators': 84, 'max_leaves': 10}. Best is trial 81 with value: 0.8465617276144976.\n",
      "[I 2024-06-21 22:50:14,433] Trial 140 finished with value: 0.8452740977329176 and parameters: {'learning_rate': 0.06265496150900662, 'max_depth': 6, 'min_child_weight': 9.140398697229033, 'reg_lambda': 12.201932352406368, 'n_estimators': 65, 'max_leaves': 8}. Best is trial 81 with value: 0.8465617276144976.\n",
      "[I 2024-06-21 22:50:14,811] Trial 141 finished with value: 0.8461374804547871 and parameters: {'learning_rate': 0.06313538043358999, 'max_depth': 6, 'min_child_weight': 8.472828490410697, 'reg_lambda': 11.707654035368867, 'n_estimators': 94, 'max_leaves': 9}. Best is trial 81 with value: 0.8465617276144976.\n",
      "[I 2024-06-21 22:50:15,208] Trial 142 finished with value: 0.8461983236665885 and parameters: {'learning_rate': 0.05776217731618124, 'max_depth': 6, 'min_child_weight': 8.823290260019983, 'reg_lambda': 11.188182564717177, 'n_estimators': 105, 'max_leaves': 9}. Best is trial 81 with value: 0.8465617276144976.\n",
      "[I 2024-06-21 22:50:15,592] Trial 143 finished with value: 0.8458661439223714 and parameters: {'learning_rate': 0.06718415670332481, 'max_depth': 6, 'min_child_weight': 7.979378878549003, 'reg_lambda': 12.818178780284724, 'n_estimators': 101, 'max_leaves': 10}. Best is trial 81 with value: 0.8465617276144976.\n",
      "[I 2024-06-21 22:50:15,928] Trial 144 finished with value: 0.845970116841972 and parameters: {'learning_rate': 0.05375769145357251, 'max_depth': 7, 'min_child_weight': 8.343704188657705, 'reg_lambda': 13.497750068222912, 'n_estimators': 91, 'max_leaves': 11}. Best is trial 81 with value: 0.8465617276144976.\n",
      "[I 2024-06-21 22:50:16,229] Trial 145 finished with value: 0.8447399188877798 and parameters: {'learning_rate': 0.04338731349637612, 'max_depth': 6, 'min_child_weight': 9.305535862229615, 'reg_lambda': 11.960760397712018, 'n_estimators': 79, 'max_leaves': 10}. Best is trial 81 with value: 0.8465617276144976.\n",
      "[I 2024-06-21 22:50:16,531] Trial 146 finished with value: 0.8460138752045063 and parameters: {'learning_rate': 0.06528527420135646, 'max_depth': 7, 'min_child_weight': 9.077060080118775, 'reg_lambda': 10.983527949298432, 'n_estimators': 89, 'max_leaves': 9}. Best is trial 81 with value: 0.8465617276144976.\n",
      "[I 2024-06-21 22:50:16,828] Trial 147 finished with value: 0.8455454507366706 and parameters: {'learning_rate': 0.06170312466112411, 'max_depth': 5, 'min_child_weight': 0.6153810009415004, 'reg_lambda': 12.365276997401741, 'n_estimators': 73, 'max_leaves': 11}. Best is trial 81 with value: 0.8465617276144976.\n",
      "[I 2024-06-21 22:50:17,149] Trial 148 finished with value: 0.8463082989928621 and parameters: {'learning_rate': 0.05005727451014799, 'max_depth': 7, 'min_child_weight': 7.713723052486869, 'reg_lambda': 13.978404553996803, 'n_estimators': 96, 'max_leaves': 9}. Best is trial 81 with value: 0.8465617276144976.\n",
      "[I 2024-06-21 22:50:17,512] Trial 149 finished with value: 0.8455673078611657 and parameters: {'learning_rate': 0.035667660222344424, 'max_depth': 7, 'min_child_weight': 7.5654744313068125, 'reg_lambda': 15.180936779322089, 'n_estimators': 112, 'max_leaves': 10}. Best is trial 81 with value: 0.8465617276144976.\n",
      "[I 2024-06-21 22:50:17,862] Trial 150 finished with value: 0.8463237241471244 and parameters: {'learning_rate': 0.04964216774390426, 'max_depth': 7, 'min_child_weight': 9.628346879224184, 'reg_lambda': 15.577115577979841, 'n_estimators': 99, 'max_leaves': 12}. Best is trial 81 with value: 0.8465617276144976.\n",
      "[I 2024-06-21 22:50:18,211] Trial 151 finished with value: 0.8464098108645809 and parameters: {'learning_rate': 0.04722154762875953, 'max_depth': 7, 'min_child_weight': 9.670079412242014, 'reg_lambda': 15.612678793798194, 'n_estimators': 99, 'max_leaves': 12}. Best is trial 81 with value: 0.8465617276144976.\n",
      "[I 2024-06-21 22:50:18,550] Trial 152 finished with value: 0.8459933579867758 and parameters: {'learning_rate': 0.04665933791975974, 'max_depth': 7, 'min_child_weight': 9.649513064195641, 'reg_lambda': 17.43229216635514, 'n_estimators': 98, 'max_leaves': 12}. Best is trial 81 with value: 0.8465617276144976.\n",
      "[I 2024-06-21 22:50:18,907] Trial 153 finished with value: 0.8460549218996049 and parameters: {'learning_rate': 0.039682970146507096, 'max_depth': 7, 'min_child_weight': 9.886012721408845, 'reg_lambda': 15.68628148638077, 'n_estimators': 108, 'max_leaves': 12}. Best is trial 81 with value: 0.8465617276144976.\n",
      "[I 2024-06-21 22:50:19,237] Trial 154 finished with value: 0.845983100390734 and parameters: {'learning_rate': 0.04937626879516778, 'max_depth': 7, 'min_child_weight': 9.518751438466817, 'reg_lambda': 16.19464298439206, 'n_estimators': 86, 'max_leaves': 12}. Best is trial 81 with value: 0.8465617276144976.\n",
      "[I 2024-06-21 22:50:19,639] Trial 155 finished with value: 0.845623724042134 and parameters: {'learning_rate': 0.052120656633054555, 'max_depth': 7, 'min_child_weight': 9.754561730006392, 'reg_lambda': 14.487608905800599, 'n_estimators': 104, 'max_leaves': 13}. Best is trial 81 with value: 0.8465617276144976.\n",
      "[I 2024-06-21 22:50:20,104] Trial 156 finished with value: 0.8458779959441382 and parameters: {'learning_rate': 0.04274012668925404, 'max_depth': 7, 'min_child_weight': 9.432639709160739, 'reg_lambda': 14.098109325087453, 'n_estimators': 98, 'max_leaves': 10}. Best is trial 81 with value: 0.8465617276144976.\n",
      "[I 2024-06-21 22:50:20,432] Trial 157 finished with value: 0.8333152630272483 and parameters: {'learning_rate': 0.030426216055214648, 'max_depth': 7, 'min_child_weight': 9.63839762147993, 'reg_lambda': 15.199051097902933, 'n_estimators': 125, 'max_leaves': 2}. Best is trial 81 with value: 0.8465617276144976.\n",
      "[I 2024-06-21 22:50:20,752] Trial 158 finished with value: 0.8404599846412997 and parameters: {'learning_rate': 0.05607348149054157, 'max_depth': 7, 'min_child_weight': 9.931074621160565, 'reg_lambda': 14.741455047566518, 'n_estimators': 93, 'max_leaves': 3}. Best is trial 81 with value: 0.8465617276144976.\n",
      "[I 2024-06-21 22:50:21,111] Trial 159 finished with value: 0.8460874607143117 and parameters: {'learning_rate': 0.04543443928165358, 'max_depth': 7, 'min_child_weight': 9.341669124110785, 'reg_lambda': 15.82059936545962, 'n_estimators': 100, 'max_leaves': 11}. Best is trial 81 with value: 0.8465617276144976.\n",
      "[I 2024-06-21 22:50:21,433] Trial 160 finished with value: 0.8458300877954499 and parameters: {'learning_rate': 0.04947914278909303, 'max_depth': 7, 'min_child_weight': 8.94711830312173, 'reg_lambda': 13.295731550295006, 'n_estimators': 86, 'max_leaves': 13}. Best is trial 81 with value: 0.8465617276144976.\n",
      "[I 2024-06-21 22:50:21,763] Trial 161 finished with value: 0.8461713256806832 and parameters: {'learning_rate': 0.05760634397249602, 'max_depth': 8, 'min_child_weight': 9.227782911867559, 'reg_lambda': 17.008477436349178, 'n_estimators': 90, 'max_leaves': 11}. Best is trial 81 with value: 0.8465617276144976.\n",
      "[I 2024-06-21 22:50:22,157] Trial 162 finished with value: 0.8466129948946349 and parameters: {'learning_rate': 0.05171340937568374, 'max_depth': 7, 'min_child_weight': 9.45106485062413, 'reg_lambda': 13.84306847375859, 'n_estimators': 118, 'max_leaves': 11}. Best is trial 162 with value: 0.8466129948946349.\n",
      "[I 2024-06-21 22:50:22,512] Trial 163 finished with value: 0.8461862548331361 and parameters: {'learning_rate': 0.05260474061159252, 'max_depth': 7, 'min_child_weight': 9.507248407151332, 'reg_lambda': 13.992412675947953, 'n_estimators': 114, 'max_leaves': 10}. Best is trial 162 with value: 0.8466129948946349.\n",
      "[I 2024-06-21 22:50:22,890] Trial 164 finished with value: 0.845989467636071 and parameters: {'learning_rate': 0.054975292959703013, 'max_depth': 7, 'min_child_weight': 9.988013744341963, 'reg_lambda': 15.420464837999758, 'n_estimators': 108, 'max_leaves': 12}. Best is trial 162 with value: 0.8466129948946349.\n",
      "[I 2024-06-21 22:50:23,276] Trial 165 finished with value: 0.8462230772558931 and parameters: {'learning_rate': 0.047065049005629904, 'max_depth': 7, 'min_child_weight': 9.741703029323734, 'reg_lambda': 12.934492300432796, 'n_estimators': 122, 'max_leaves': 10}. Best is trial 162 with value: 0.8466129948946349.\n",
      "[I 2024-06-21 22:50:23,611] Trial 166 finished with value: 0.8446351980976429 and parameters: {'learning_rate': 0.0377223408908787, 'max_depth': 7, 'min_child_weight': 8.765171411202992, 'reg_lambda': 14.389295259344037, 'n_estimators': 103, 'max_leaves': 9}. Best is trial 162 with value: 0.8466129948946349.\n",
      "[I 2024-06-21 22:50:23,955] Trial 167 finished with value: 0.8461735003556973 and parameters: {'learning_rate': 0.0589965682780629, 'max_depth': 7, 'min_child_weight': 9.074650697225447, 'reg_lambda': 13.484293218015015, 'n_estimators': 96, 'max_leaves': 11}. Best is trial 162 with value: 0.8466129948946349.\n",
      "[I 2024-06-21 22:50:24,370] Trial 168 finished with value: 0.8460042578180484 and parameters: {'learning_rate': 0.050640659423342074, 'max_depth': 7, 'min_child_weight': 9.434891974842344, 'reg_lambda': 13.636311857411481, 'n_estimators': 118, 'max_leaves': 10}. Best is trial 162 with value: 0.8466129948946349.\n",
      "[I 2024-06-21 22:50:24,711] Trial 169 finished with value: 0.8448175184163985 and parameters: {'learning_rate': 0.04296083147666868, 'max_depth': 7, 'min_child_weight': 8.60324164328824, 'reg_lambda': 12.74657807767671, 'n_estimators': 80, 'max_leaves': 11}. Best is trial 162 with value: 0.8466129948946349.\n",
      "[I 2024-06-21 22:50:25,034] Trial 170 finished with value: 0.8422031653691607 and parameters: {'learning_rate': 0.167933189993355, 'max_depth': 7, 'min_child_weight': 9.65866000704051, 'reg_lambda': 14.837308257968537, 'n_estimators': 84, 'max_leaves': 12}. Best is trial 162 with value: 0.8466129948946349.\n",
      "[I 2024-06-21 22:50:25,401] Trial 171 finished with value: 0.8461292671470885 and parameters: {'learning_rate': 0.06011063405503135, 'max_depth': 8, 'min_child_weight': 9.2743972619363, 'reg_lambda': 12.60188597411932, 'n_estimators': 101, 'max_leaves': 11}. Best is trial 162 with value: 0.8466129948946349.\n",
      "[I 2024-06-21 22:50:25,745] Trial 172 finished with value: 0.8464834333853896 and parameters: {'learning_rate': 0.05429847821169311, 'max_depth': 7, 'min_child_weight': 9.050215710590296, 'reg_lambda': 13.11631710034661, 'n_estimators': 93, 'max_leaves': 11}. Best is trial 162 with value: 0.8466129948946349.\n",
      "[I 2024-06-21 22:50:26,078] Trial 173 finished with value: 0.8463008367588346 and parameters: {'learning_rate': 0.05445610754312625, 'max_depth': 7, 'min_child_weight': 8.998132815063526, 'reg_lambda': 13.248838033252957, 'n_estimators': 93, 'max_leaves': 10}. Best is trial 162 with value: 0.8466129948946349.\n",
      "[I 2024-06-21 22:50:26,416] Trial 174 finished with value: 0.8459494887601542 and parameters: {'learning_rate': 0.0531741507902382, 'max_depth': 7, 'min_child_weight': 5.869625445485707, 'reg_lambda': 13.165755087582461, 'n_estimators': 91, 'max_leaves': 11}. Best is trial 162 with value: 0.8466129948946349.\n",
      "[I 2024-06-21 22:50:26,757] Trial 175 finished with value: 0.8459201066306976 and parameters: {'learning_rate': 0.055825632701189246, 'max_depth': 7, 'min_child_weight': 8.872746160251726, 'reg_lambda': 13.872526664788165, 'n_estimators': 94, 'max_leaves': 10}. Best is trial 162 with value: 0.8466129948946349.\n",
      "[I 2024-06-21 22:50:27,067] Trial 176 finished with value: 0.8454376275200981 and parameters: {'learning_rate': 0.04673313236394591, 'max_depth': 7, 'min_child_weight': 9.071990159673009, 'reg_lambda': 14.28920873867396, 'n_estimators': 87, 'max_leaves': 9}. Best is trial 162 with value: 0.8466129948946349.\n",
      "[I 2024-06-21 22:50:27,432] Trial 177 finished with value: 0.8460558345807502 and parameters: {'learning_rate': 0.05932638804342945, 'max_depth': 7, 'min_child_weight': 9.58005030523078, 'reg_lambda': 13.127378519673973, 'n_estimators': 106, 'max_leaves': 12}. Best is trial 162 with value: 0.8466129948946349.\n",
      "[I 2024-06-21 22:50:27,746] Trial 178 finished with value: 0.8456501206230155 and parameters: {'learning_rate': 0.04960883699023869, 'max_depth': 7, 'min_child_weight': 9.764475867519334, 'reg_lambda': 12.439812913921443, 'n_estimators': 81, 'max_leaves': 11}. Best is trial 162 with value: 0.8466129948946349.\n",
      "[I 2024-06-21 22:50:28,033] Trial 179 finished with value: 0.8444513719642291 and parameters: {'learning_rate': 0.1374974959128164, 'max_depth': 7, 'min_child_weight': 9.381024533979238, 'reg_lambda': 13.61688597460194, 'n_estimators': 76, 'max_leaves': 10}. Best is trial 162 with value: 0.8466129948946349.\n",
      "[I 2024-06-21 22:50:28,385] Trial 180 finished with value: 0.8455519729596389 and parameters: {'learning_rate': 0.0403454504920029, 'max_depth': 7, 'min_child_weight': 9.033359589933795, 'reg_lambda': 12.108799118056746, 'n_estimators': 91, 'max_leaves': 13}. Best is trial 162 with value: 0.8466129948946349.\n",
      "[I 2024-06-21 22:50:28,712] Trial 181 finished with value: 0.8461547149727012 and parameters: {'learning_rate': 0.053900068857588274, 'max_depth': 6, 'min_child_weight': 8.170914809184259, 'reg_lambda': 12.907899142562725, 'n_estimators': 96, 'max_leaves': 10}. Best is trial 162 with value: 0.8466129948946349.\n",
      "[I 2024-06-21 22:50:29,068] Trial 182 finished with value: 0.8460904169073257 and parameters: {'learning_rate': 0.056482240554397455, 'max_depth': 7, 'min_child_weight': 8.765098497651184, 'reg_lambda': 13.970758013313699, 'n_estimators': 99, 'max_leaves': 10}. Best is trial 162 with value: 0.8466129948946349.\n",
      "[I 2024-06-21 22:50:29,464] Trial 183 finished with value: 0.8459681578096734 and parameters: {'learning_rate': 0.06236612034879322, 'max_depth': 7, 'min_child_weight': 8.599387466296687, 'reg_lambda': 12.468425229909979, 'n_estimators': 89, 'max_leaves': 11}. Best is trial 162 with value: 0.8466129948946349.\n",
      "[I 2024-06-21 22:50:29,843] Trial 184 finished with value: 0.8462494088797882 and parameters: {'learning_rate': 0.0505566110378195, 'max_depth': 6, 'min_child_weight': 9.215533004764888, 'reg_lambda': 13.335557384926469, 'n_estimators': 95, 'max_leaves': 9}. Best is trial 162 with value: 0.8466129948946349.\n",
      "[I 2024-06-21 22:50:30,211] Trial 185 finished with value: 0.8449659888248601 and parameters: {'learning_rate': 0.044794127787600155, 'max_depth': 7, 'min_child_weight': 9.493053750486922, 'reg_lambda': 13.467729351159875, 'n_estimators': 84, 'max_leaves': 9}. Best is trial 162 with value: 0.8466129948946349.\n",
      "[I 2024-06-21 22:50:30,624] Trial 186 finished with value: 0.8458423503308911 and parameters: {'learning_rate': 0.04839228169092338, 'max_depth': 7, 'min_child_weight': 9.242496197408801, 'reg_lambda': 14.447168762429996, 'n_estimators': 103, 'max_leaves': 8}. Best is trial 162 with value: 0.8466129948946349.\n",
      "[I 2024-06-21 22:50:30,991] Trial 187 finished with value: 0.8463619106034251 and parameters: {'learning_rate': 0.057757223979775306, 'max_depth': 7, 'min_child_weight': 9.834035588031393, 'reg_lambda': 14.985417082654498, 'n_estimators': 93, 'max_leaves': 9}. Best is trial 162 with value: 0.8466129948946349.\n",
      "[I 2024-06-21 22:50:31,363] Trial 188 finished with value: 0.8461286268658194 and parameters: {'learning_rate': 0.06660757940300942, 'max_depth': 7, 'min_child_weight': 9.82759981581108, 'reg_lambda': 15.212709116487595, 'n_estimators': 88, 'max_leaves': 12}. Best is trial 162 with value: 0.8466129948946349.\n",
      "[I 2024-06-21 22:50:31,678] Trial 189 finished with value: 0.8464051656210013 and parameters: {'learning_rate': 0.05812054714264836, 'max_depth': 7, 'min_child_weight': 9.638117389578813, 'reg_lambda': 15.622373986966092, 'n_estimators': 93, 'max_leaves': 9}. Best is trial 162 with value: 0.8466129948946349.\n",
      "[I 2024-06-21 22:50:31,996] Trial 190 finished with value: 0.8453961016068203 and parameters: {'learning_rate': 0.09712437329923466, 'max_depth': 7, 'min_child_weight': 9.798298800380495, 'reg_lambda': 16.34958554440329, 'n_estimators': 93, 'max_leaves': 9}. Best is trial 162 with value: 0.8466129948946349.\n",
      "[I 2024-06-21 22:50:32,307] Trial 191 finished with value: 0.8461653474809919 and parameters: {'learning_rate': 0.05802161603884066, 'max_depth': 7, 'min_child_weight': 9.602337649757112, 'reg_lambda': 15.901217633545905, 'n_estimators': 83, 'max_leaves': 9}. Best is trial 162 with value: 0.8466129948946349.\n",
      "[I 2024-06-21 22:50:32,709] Trial 192 finished with value: 0.8442277121712382 and parameters: {'learning_rate': 0.06275972487018561, 'max_depth': 7, 'min_child_weight': 9.984071961363277, 'reg_lambda': 15.489289058092591, 'n_estimators': 99, 'max_leaves': 19}. Best is trial 162 with value: 0.8466129948946349.\n",
      "[I 2024-06-21 22:50:33,023] Trial 193 finished with value: 0.8459747641999185 and parameters: {'learning_rate': 0.05475113557957929, 'max_depth': 7, 'min_child_weight': 9.44972167069964, 'reg_lambda': 14.88333220867732, 'n_estimators': 92, 'max_leaves': 8}. Best is trial 162 with value: 0.8466129948946349.\n",
      "[I 2024-06-21 22:50:33,386] Trial 194 finished with value: 0.845881881217949 and parameters: {'learning_rate': 0.05927413029649439, 'max_depth': 7, 'min_child_weight': 9.68867818239558, 'reg_lambda': 15.66997892400674, 'n_estimators': 111, 'max_leaves': 10}. Best is trial 162 with value: 0.8466129948946349.\n",
      "[I 2024-06-21 22:50:33,696] Trial 195 finished with value: 0.8454137398481608 and parameters: {'learning_rate': 0.07085523571938385, 'max_depth': 7, 'min_child_weight': 4.720258066086811, 'reg_lambda': 14.844800240655209, 'n_estimators': 88, 'max_leaves': 11}. Best is trial 162 with value: 0.8466129948946349.\n",
      "[I 2024-06-21 22:50:34,029] Trial 196 finished with value: 0.8464152912689059 and parameters: {'learning_rate': 0.05465055448765599, 'max_depth': 7, 'min_child_weight': 9.565453082908522, 'reg_lambda': 16.661139329663552, 'n_estimators': 100, 'max_leaves': 10}. Best is trial 162 with value: 0.8466129948946349.\n",
      "[I 2024-06-21 22:50:34,386] Trial 197 finished with value: 0.8466096242083375 and parameters: {'learning_rate': 0.06429035815090475, 'max_depth': 7, 'min_child_weight': 9.607712737354591, 'reg_lambda': 17.510604608050397, 'n_estimators': 102, 'max_leaves': 11}. Best is trial 162 with value: 0.8466129948946349.\n",
      "[I 2024-06-21 22:50:34,744] Trial 198 finished with value: 0.8463381656494819 and parameters: {'learning_rate': 0.05579955901985611, 'max_depth': 7, 'min_child_weight': 9.829557409304309, 'reg_lambda': 18.01350722536953, 'n_estimators': 101, 'max_leaves': 9}. Best is trial 162 with value: 0.8466129948946349.\n",
      "[I 2024-06-21 22:50:35,102] Trial 199 finished with value: 0.8461697656874129 and parameters: {'learning_rate': 0.06864947752279181, 'max_depth': 7, 'min_child_weight': 9.97930781050252, 'reg_lambda': 16.79975684698332, 'n_estimators': 107, 'max_leaves': 9}. Best is trial 162 with value: 0.8466129948946349.\n"
     ]
    }
   ],
   "source": [
    "study = optuna.create_study(direction='maximize')\n",
    "study.optimize(objective, n_trials=200)"
   ]
  },
  {
   "cell_type": "code",
   "execution_count": 50,
   "metadata": {},
   "outputs": [
    {
     "data": {
      "text/html": [
       "<style>#sk-container-id-5 {color: black;background-color: white;}#sk-container-id-5 pre{padding: 0;}#sk-container-id-5 div.sk-toggleable {background-color: white;}#sk-container-id-5 label.sk-toggleable__label {cursor: pointer;display: block;width: 100%;margin-bottom: 0;padding: 0.3em;box-sizing: border-box;text-align: center;}#sk-container-id-5 label.sk-toggleable__label-arrow:before {content: \"▸\";float: left;margin-right: 0.25em;color: #696969;}#sk-container-id-5 label.sk-toggleable__label-arrow:hover:before {color: black;}#sk-container-id-5 div.sk-estimator:hover label.sk-toggleable__label-arrow:before {color: black;}#sk-container-id-5 div.sk-toggleable__content {max-height: 0;max-width: 0;overflow: hidden;text-align: left;background-color: #f0f8ff;}#sk-container-id-5 div.sk-toggleable__content pre {margin: 0.2em;color: black;border-radius: 0.25em;background-color: #f0f8ff;}#sk-container-id-5 input.sk-toggleable__control:checked~div.sk-toggleable__content {max-height: 200px;max-width: 100%;overflow: auto;}#sk-container-id-5 input.sk-toggleable__control:checked~label.sk-toggleable__label-arrow:before {content: \"▾\";}#sk-container-id-5 div.sk-estimator input.sk-toggleable__control:checked~label.sk-toggleable__label {background-color: #d4ebff;}#sk-container-id-5 div.sk-label input.sk-toggleable__control:checked~label.sk-toggleable__label {background-color: #d4ebff;}#sk-container-id-5 input.sk-hidden--visually {border: 0;clip: rect(1px 1px 1px 1px);clip: rect(1px, 1px, 1px, 1px);height: 1px;margin: -1px;overflow: hidden;padding: 0;position: absolute;width: 1px;}#sk-container-id-5 div.sk-estimator {font-family: monospace;background-color: #f0f8ff;border: 1px dotted black;border-radius: 0.25em;box-sizing: border-box;margin-bottom: 0.5em;}#sk-container-id-5 div.sk-estimator:hover {background-color: #d4ebff;}#sk-container-id-5 div.sk-parallel-item::after {content: \"\";width: 100%;border-bottom: 1px solid gray;flex-grow: 1;}#sk-container-id-5 div.sk-label:hover label.sk-toggleable__label {background-color: #d4ebff;}#sk-container-id-5 div.sk-serial::before {content: \"\";position: absolute;border-left: 1px solid gray;box-sizing: border-box;top: 0;bottom: 0;left: 50%;z-index: 0;}#sk-container-id-5 div.sk-serial {display: flex;flex-direction: column;align-items: center;background-color: white;padding-right: 0.2em;padding-left: 0.2em;position: relative;}#sk-container-id-5 div.sk-item {position: relative;z-index: 1;}#sk-container-id-5 div.sk-parallel {display: flex;align-items: stretch;justify-content: center;background-color: white;position: relative;}#sk-container-id-5 div.sk-item::before, #sk-container-id-5 div.sk-parallel-item::before {content: \"\";position: absolute;border-left: 1px solid gray;box-sizing: border-box;top: 0;bottom: 0;left: 50%;z-index: -1;}#sk-container-id-5 div.sk-parallel-item {display: flex;flex-direction: column;z-index: 1;position: relative;background-color: white;}#sk-container-id-5 div.sk-parallel-item:first-child::after {align-self: flex-end;width: 50%;}#sk-container-id-5 div.sk-parallel-item:last-child::after {align-self: flex-start;width: 50%;}#sk-container-id-5 div.sk-parallel-item:only-child::after {width: 0;}#sk-container-id-5 div.sk-dashed-wrapped {border: 1px dashed gray;margin: 0 0.4em 0.5em 0.4em;box-sizing: border-box;padding-bottom: 0.4em;background-color: white;}#sk-container-id-5 div.sk-label label {font-family: monospace;font-weight: bold;display: inline-block;line-height: 1.2em;}#sk-container-id-5 div.sk-label-container {text-align: center;}#sk-container-id-5 div.sk-container {/* jupyter's `normalize.less` sets `[hidden] { display: none; }` but bootstrap.min.css set `[hidden] { display: none !important; }` so we also need the `!important` here to be able to override the default hidden behavior on the sphinx rendered scikit-learn.org. See: https://github.com/scikit-learn/scikit-learn/issues/21755 */display: inline-block !important;position: relative;}#sk-container-id-5 div.sk-text-repr-fallback {display: none;}</style><div id=\"sk-container-id-5\" class=\"sk-top-container\"><div class=\"sk-text-repr-fallback\"><pre>XGBClassifier(base_score=None, booster=None, callbacks=None,\n",
       "              colsample_bylevel=None, colsample_bynode=None,\n",
       "              colsample_bytree=None, device=None, early_stopping_rounds=None,\n",
       "              enable_categorical=False, eval_metric=None, feature_types=None,\n",
       "              gamma=None, grow_policy=None, importance_type=None,\n",
       "              interaction_constraints=None, learning_rate=0.19998517982295863,\n",
       "              max_bin=None, max_cat_threshold=None, max_cat_to_onehot=None,\n",
       "              max_delta_step=None, max_depth=5, max_leaves=5,\n",
       "              min_child_weight=2.1638645947591924, missing=nan,\n",
       "              monotone_constraints=None, multi_strategy=None, n_estimators=200,\n",
       "              n_jobs=None, num_parallel_tree=None, random_state=None, ...)</pre><b>In a Jupyter environment, please rerun this cell to show the HTML representation or trust the notebook. <br />On GitHub, the HTML representation is unable to render, please try loading this page with nbviewer.org.</b></div><div class=\"sk-container\" hidden><div class=\"sk-item\"><div class=\"sk-estimator sk-toggleable\"><input class=\"sk-toggleable__control sk-hidden--visually\" id=\"sk-estimator-id-5\" type=\"checkbox\" checked><label for=\"sk-estimator-id-5\" class=\"sk-toggleable__label sk-toggleable__label-arrow\">XGBClassifier</label><div class=\"sk-toggleable__content\"><pre>XGBClassifier(base_score=None, booster=None, callbacks=None,\n",
       "              colsample_bylevel=None, colsample_bynode=None,\n",
       "              colsample_bytree=None, device=None, early_stopping_rounds=None,\n",
       "              enable_categorical=False, eval_metric=None, feature_types=None,\n",
       "              gamma=None, grow_policy=None, importance_type=None,\n",
       "              interaction_constraints=None, learning_rate=0.19998517982295863,\n",
       "              max_bin=None, max_cat_threshold=None, max_cat_to_onehot=None,\n",
       "              max_delta_step=None, max_depth=5, max_leaves=5,\n",
       "              min_child_weight=2.1638645947591924, missing=nan,\n",
       "              monotone_constraints=None, multi_strategy=None, n_estimators=200,\n",
       "              n_jobs=None, num_parallel_tree=None, random_state=None, ...)</pre></div></div></div></div></div>"
      ],
      "text/plain": [
       "XGBClassifier(base_score=None, booster=None, callbacks=None,\n",
       "              colsample_bylevel=None, colsample_bynode=None,\n",
       "              colsample_bytree=None, device=None, early_stopping_rounds=None,\n",
       "              enable_categorical=False, eval_metric=None, feature_types=None,\n",
       "              gamma=None, grow_policy=None, importance_type=None,\n",
       "              interaction_constraints=None, learning_rate=0.19998517982295863,\n",
       "              max_bin=None, max_cat_threshold=None, max_cat_to_onehot=None,\n",
       "              max_delta_step=None, max_depth=5, max_leaves=5,\n",
       "              min_child_weight=2.1638645947591924, missing=nan,\n",
       "              monotone_constraints=None, multi_strategy=None, n_estimators=200,\n",
       "              n_jobs=None, num_parallel_tree=None, random_state=None, ...)"
      ]
     },
     "execution_count": 50,
     "metadata": {},
     "output_type": "execute_result"
    }
   ],
   "source": [
    "best_xgb = XGBClassifier(**study.best_params)\n",
    "best_xgb"
   ]
  },
  {
   "cell_type": "code",
   "execution_count": 51,
   "metadata": {},
   "outputs": [
    {
     "data": {
      "text/html": [
       "<style>#sk-container-id-6 {color: black;background-color: white;}#sk-container-id-6 pre{padding: 0;}#sk-container-id-6 div.sk-toggleable {background-color: white;}#sk-container-id-6 label.sk-toggleable__label {cursor: pointer;display: block;width: 100%;margin-bottom: 0;padding: 0.3em;box-sizing: border-box;text-align: center;}#sk-container-id-6 label.sk-toggleable__label-arrow:before {content: \"▸\";float: left;margin-right: 0.25em;color: #696969;}#sk-container-id-6 label.sk-toggleable__label-arrow:hover:before {color: black;}#sk-container-id-6 div.sk-estimator:hover label.sk-toggleable__label-arrow:before {color: black;}#sk-container-id-6 div.sk-toggleable__content {max-height: 0;max-width: 0;overflow: hidden;text-align: left;background-color: #f0f8ff;}#sk-container-id-6 div.sk-toggleable__content pre {margin: 0.2em;color: black;border-radius: 0.25em;background-color: #f0f8ff;}#sk-container-id-6 input.sk-toggleable__control:checked~div.sk-toggleable__content {max-height: 200px;max-width: 100%;overflow: auto;}#sk-container-id-6 input.sk-toggleable__control:checked~label.sk-toggleable__label-arrow:before {content: \"▾\";}#sk-container-id-6 div.sk-estimator input.sk-toggleable__control:checked~label.sk-toggleable__label {background-color: #d4ebff;}#sk-container-id-6 div.sk-label input.sk-toggleable__control:checked~label.sk-toggleable__label {background-color: #d4ebff;}#sk-container-id-6 input.sk-hidden--visually {border: 0;clip: rect(1px 1px 1px 1px);clip: rect(1px, 1px, 1px, 1px);height: 1px;margin: -1px;overflow: hidden;padding: 0;position: absolute;width: 1px;}#sk-container-id-6 div.sk-estimator {font-family: monospace;background-color: #f0f8ff;border: 1px dotted black;border-radius: 0.25em;box-sizing: border-box;margin-bottom: 0.5em;}#sk-container-id-6 div.sk-estimator:hover {background-color: #d4ebff;}#sk-container-id-6 div.sk-parallel-item::after {content: \"\";width: 100%;border-bottom: 1px solid gray;flex-grow: 1;}#sk-container-id-6 div.sk-label:hover label.sk-toggleable__label {background-color: #d4ebff;}#sk-container-id-6 div.sk-serial::before {content: \"\";position: absolute;border-left: 1px solid gray;box-sizing: border-box;top: 0;bottom: 0;left: 50%;z-index: 0;}#sk-container-id-6 div.sk-serial {display: flex;flex-direction: column;align-items: center;background-color: white;padding-right: 0.2em;padding-left: 0.2em;position: relative;}#sk-container-id-6 div.sk-item {position: relative;z-index: 1;}#sk-container-id-6 div.sk-parallel {display: flex;align-items: stretch;justify-content: center;background-color: white;position: relative;}#sk-container-id-6 div.sk-item::before, #sk-container-id-6 div.sk-parallel-item::before {content: \"\";position: absolute;border-left: 1px solid gray;box-sizing: border-box;top: 0;bottom: 0;left: 50%;z-index: -1;}#sk-container-id-6 div.sk-parallel-item {display: flex;flex-direction: column;z-index: 1;position: relative;background-color: white;}#sk-container-id-6 div.sk-parallel-item:first-child::after {align-self: flex-end;width: 50%;}#sk-container-id-6 div.sk-parallel-item:last-child::after {align-self: flex-start;width: 50%;}#sk-container-id-6 div.sk-parallel-item:only-child::after {width: 0;}#sk-container-id-6 div.sk-dashed-wrapped {border: 1px dashed gray;margin: 0 0.4em 0.5em 0.4em;box-sizing: border-box;padding-bottom: 0.4em;background-color: white;}#sk-container-id-6 div.sk-label label {font-family: monospace;font-weight: bold;display: inline-block;line-height: 1.2em;}#sk-container-id-6 div.sk-label-container {text-align: center;}#sk-container-id-6 div.sk-container {/* jupyter's `normalize.less` sets `[hidden] { display: none; }` but bootstrap.min.css set `[hidden] { display: none !important; }` so we also need the `!important` here to be able to override the default hidden behavior on the sphinx rendered scikit-learn.org. See: https://github.com/scikit-learn/scikit-learn/issues/21755 */display: inline-block !important;position: relative;}#sk-container-id-6 div.sk-text-repr-fallback {display: none;}</style><div id=\"sk-container-id-6\" class=\"sk-top-container\"><div class=\"sk-text-repr-fallback\"><pre>XGBClassifier(base_score=None, booster=None, callbacks=None,\n",
       "              colsample_bylevel=None, colsample_bynode=None,\n",
       "              colsample_bytree=None, device=None, early_stopping_rounds=None,\n",
       "              enable_categorical=False, eval_metric=None, feature_types=None,\n",
       "              gamma=None, grow_policy=None, importance_type=None,\n",
       "              interaction_constraints=None, learning_rate=0.19998517982295863,\n",
       "              max_bin=None, max_cat_threshold=None, max_cat_to_onehot=None,\n",
       "              max_delta_step=None, max_depth=5, max_leaves=5,\n",
       "              min_child_weight=2.1638645947591924, missing=nan,\n",
       "              monotone_constraints=None, multi_strategy=None, n_estimators=200,\n",
       "              n_jobs=None, num_parallel_tree=None, random_state=None, ...)</pre><b>In a Jupyter environment, please rerun this cell to show the HTML representation or trust the notebook. <br />On GitHub, the HTML representation is unable to render, please try loading this page with nbviewer.org.</b></div><div class=\"sk-container\" hidden><div class=\"sk-item\"><div class=\"sk-estimator sk-toggleable\"><input class=\"sk-toggleable__control sk-hidden--visually\" id=\"sk-estimator-id-6\" type=\"checkbox\" checked><label for=\"sk-estimator-id-6\" class=\"sk-toggleable__label sk-toggleable__label-arrow\">XGBClassifier</label><div class=\"sk-toggleable__content\"><pre>XGBClassifier(base_score=None, booster=None, callbacks=None,\n",
       "              colsample_bylevel=None, colsample_bynode=None,\n",
       "              colsample_bytree=None, device=None, early_stopping_rounds=None,\n",
       "              enable_categorical=False, eval_metric=None, feature_types=None,\n",
       "              gamma=None, grow_policy=None, importance_type=None,\n",
       "              interaction_constraints=None, learning_rate=0.19998517982295863,\n",
       "              max_bin=None, max_cat_threshold=None, max_cat_to_onehot=None,\n",
       "              max_delta_step=None, max_depth=5, max_leaves=5,\n",
       "              min_child_weight=2.1638645947591924, missing=nan,\n",
       "              monotone_constraints=None, multi_strategy=None, n_estimators=200,\n",
       "              n_jobs=None, num_parallel_tree=None, random_state=None, ...)</pre></div></div></div></div></div>"
      ],
      "text/plain": [
       "XGBClassifier(base_score=None, booster=None, callbacks=None,\n",
       "              colsample_bylevel=None, colsample_bynode=None,\n",
       "              colsample_bytree=None, device=None, early_stopping_rounds=None,\n",
       "              enable_categorical=False, eval_metric=None, feature_types=None,\n",
       "              gamma=None, grow_policy=None, importance_type=None,\n",
       "              interaction_constraints=None, learning_rate=0.19998517982295863,\n",
       "              max_bin=None, max_cat_threshold=None, max_cat_to_onehot=None,\n",
       "              max_delta_step=None, max_depth=5, max_leaves=5,\n",
       "              min_child_weight=2.1638645947591924, missing=nan,\n",
       "              monotone_constraints=None, multi_strategy=None, n_estimators=200,\n",
       "              n_jobs=None, num_parallel_tree=None, random_state=None, ...)"
      ]
     },
     "execution_count": 51,
     "metadata": {},
     "output_type": "execute_result"
    }
   ],
   "source": [
    "best_xgb.fit(xr_train, yr_train)"
   ]
  },
  {
   "cell_type": "code",
   "execution_count": 55,
   "metadata": {},
   "outputs": [
    {
     "data": {
      "text/plain": [
       "array([1, 1, 0, ..., 1, 0, 1])"
      ]
     },
     "execution_count": 55,
     "metadata": {},
     "output_type": "execute_result"
    }
   ],
   "source": [
    "y_pred_test_xgb = best_xgb.predict(xr_test)\n",
    "y_pred_test_xgb"
   ]
  },
  {
   "cell_type": "code",
   "execution_count": 37,
   "metadata": {},
   "outputs": [
    {
     "name": "stdout",
     "output_type": "stream",
     "text": [
      "Accuracy: 0.9553648068669528\n"
     ]
    }
   ],
   "source": [
    "import xgboost as xgb\n",
    "from xgboost import XGBClassifier\n",
    "from sklearn.model_selection import train_test_split\n",
    "from sklearn.metrics import accuracy_score\n",
    "\n",
    "model = XGBClassifier()\n",
    "\n",
    "# Fit the model to the training data\n",
    "model.fit(xr_train,yr_train)\n",
    "\n",
    "# Make predictions on the test data\n",
    "y_pred = model.predict(xr_test)\n",
    "\n",
    "# Evaluate the model's accuracy\n",
    "accuracy = accuracy_score(yr_test, y_pred)\n",
    "print(f'Accuracy: {accuracy}')"
   ]
  },
  {
   "cell_type": "markdown",
   "metadata": {},
   "source": [
    "#### Performing PCA"
   ]
  },
  {
   "cell_type": "code",
   "execution_count": 38,
   "metadata": {},
   "outputs": [],
   "source": [
    "# Applying PCA\n",
    "from sklearn.decomposition import PCA\n",
    "pca = PCA(0.9)\n",
    "xr_train_pca = pca.fit_transform(xr_train1)\n",
    "xr_test_pca = pca.transform(xr_test1)\n",
    "explained_variance = pca.explained_variance_ratio_"
   ]
  },
  {
   "cell_type": "code",
   "execution_count": 39,
   "metadata": {},
   "outputs": [],
   "source": [
    "model=RandomForestClassifier(n_estimators=100, criterion='gini', random_state = 100,max_depth=6, min_samples_leaf=8)"
   ]
  },
  {
   "cell_type": "code",
   "execution_count": 40,
   "metadata": {},
   "outputs": [
    {
     "data": {
      "text/html": [
       "<style>#sk-container-id-4 {color: black;background-color: white;}#sk-container-id-4 pre{padding: 0;}#sk-container-id-4 div.sk-toggleable {background-color: white;}#sk-container-id-4 label.sk-toggleable__label {cursor: pointer;display: block;width: 100%;margin-bottom: 0;padding: 0.3em;box-sizing: border-box;text-align: center;}#sk-container-id-4 label.sk-toggleable__label-arrow:before {content: \"▸\";float: left;margin-right: 0.25em;color: #696969;}#sk-container-id-4 label.sk-toggleable__label-arrow:hover:before {color: black;}#sk-container-id-4 div.sk-estimator:hover label.sk-toggleable__label-arrow:before {color: black;}#sk-container-id-4 div.sk-toggleable__content {max-height: 0;max-width: 0;overflow: hidden;text-align: left;background-color: #f0f8ff;}#sk-container-id-4 div.sk-toggleable__content pre {margin: 0.2em;color: black;border-radius: 0.25em;background-color: #f0f8ff;}#sk-container-id-4 input.sk-toggleable__control:checked~div.sk-toggleable__content {max-height: 200px;max-width: 100%;overflow: auto;}#sk-container-id-4 input.sk-toggleable__control:checked~label.sk-toggleable__label-arrow:before {content: \"▾\";}#sk-container-id-4 div.sk-estimator input.sk-toggleable__control:checked~label.sk-toggleable__label {background-color: #d4ebff;}#sk-container-id-4 div.sk-label input.sk-toggleable__control:checked~label.sk-toggleable__label {background-color: #d4ebff;}#sk-container-id-4 input.sk-hidden--visually {border: 0;clip: rect(1px 1px 1px 1px);clip: rect(1px, 1px, 1px, 1px);height: 1px;margin: -1px;overflow: hidden;padding: 0;position: absolute;width: 1px;}#sk-container-id-4 div.sk-estimator {font-family: monospace;background-color: #f0f8ff;border: 1px dotted black;border-radius: 0.25em;box-sizing: border-box;margin-bottom: 0.5em;}#sk-container-id-4 div.sk-estimator:hover {background-color: #d4ebff;}#sk-container-id-4 div.sk-parallel-item::after {content: \"\";width: 100%;border-bottom: 1px solid gray;flex-grow: 1;}#sk-container-id-4 div.sk-label:hover label.sk-toggleable__label {background-color: #d4ebff;}#sk-container-id-4 div.sk-serial::before {content: \"\";position: absolute;border-left: 1px solid gray;box-sizing: border-box;top: 0;bottom: 0;left: 50%;z-index: 0;}#sk-container-id-4 div.sk-serial {display: flex;flex-direction: column;align-items: center;background-color: white;padding-right: 0.2em;padding-left: 0.2em;position: relative;}#sk-container-id-4 div.sk-item {position: relative;z-index: 1;}#sk-container-id-4 div.sk-parallel {display: flex;align-items: stretch;justify-content: center;background-color: white;position: relative;}#sk-container-id-4 div.sk-item::before, #sk-container-id-4 div.sk-parallel-item::before {content: \"\";position: absolute;border-left: 1px solid gray;box-sizing: border-box;top: 0;bottom: 0;left: 50%;z-index: -1;}#sk-container-id-4 div.sk-parallel-item {display: flex;flex-direction: column;z-index: 1;position: relative;background-color: white;}#sk-container-id-4 div.sk-parallel-item:first-child::after {align-self: flex-end;width: 50%;}#sk-container-id-4 div.sk-parallel-item:last-child::after {align-self: flex-start;width: 50%;}#sk-container-id-4 div.sk-parallel-item:only-child::after {width: 0;}#sk-container-id-4 div.sk-dashed-wrapped {border: 1px dashed gray;margin: 0 0.4em 0.5em 0.4em;box-sizing: border-box;padding-bottom: 0.4em;background-color: white;}#sk-container-id-4 div.sk-label label {font-family: monospace;font-weight: bold;display: inline-block;line-height: 1.2em;}#sk-container-id-4 div.sk-label-container {text-align: center;}#sk-container-id-4 div.sk-container {/* jupyter's `normalize.less` sets `[hidden] { display: none; }` but bootstrap.min.css set `[hidden] { display: none !important; }` so we also need the `!important` here to be able to override the default hidden behavior on the sphinx rendered scikit-learn.org. See: https://github.com/scikit-learn/scikit-learn/issues/21755 */display: inline-block !important;position: relative;}#sk-container-id-4 div.sk-text-repr-fallback {display: none;}</style><div id=\"sk-container-id-4\" class=\"sk-top-container\"><div class=\"sk-text-repr-fallback\"><pre>RandomForestClassifier(max_depth=6, min_samples_leaf=8, random_state=100)</pre><b>In a Jupyter environment, please rerun this cell to show the HTML representation or trust the notebook. <br />On GitHub, the HTML representation is unable to render, please try loading this page with nbviewer.org.</b></div><div class=\"sk-container\" hidden><div class=\"sk-item\"><div class=\"sk-estimator sk-toggleable\"><input class=\"sk-toggleable__control sk-hidden--visually\" id=\"sk-estimator-id-4\" type=\"checkbox\" checked><label for=\"sk-estimator-id-4\" class=\"sk-toggleable__label sk-toggleable__label-arrow\">RandomForestClassifier</label><div class=\"sk-toggleable__content\"><pre>RandomForestClassifier(max_depth=6, min_samples_leaf=8, random_state=100)</pre></div></div></div></div></div>"
      ],
      "text/plain": [
       "RandomForestClassifier(max_depth=6, min_samples_leaf=8, random_state=100)"
      ]
     },
     "execution_count": 40,
     "metadata": {},
     "output_type": "execute_result"
    }
   ],
   "source": [
    "model.fit(xr_train_pca,yr_train1)"
   ]
  },
  {
   "cell_type": "code",
   "execution_count": 41,
   "metadata": {},
   "outputs": [],
   "source": [
    "yr_predict_pca = model.predict(xr_test_pca)"
   ]
  },
  {
   "cell_type": "code",
   "execution_count": 42,
   "metadata": {},
   "outputs": [],
   "source": [
    "model_score_r_pca = model.score(xr_test_pca, yr_test1)"
   ]
  },
  {
   "cell_type": "code",
   "execution_count": 43,
   "metadata": {},
   "outputs": [
    {
     "name": "stdout",
     "output_type": "stream",
     "text": [
      "0.7258620689655172\n",
      "              precision    recall  f1-score   support\n",
      "\n",
      "           0       0.68      0.68      0.68       491\n",
      "           1       0.76      0.76      0.76       669\n",
      "\n",
      "    accuracy                           0.73      1160\n",
      "   macro avg       0.72      0.72      0.72      1160\n",
      "weighted avg       0.73      0.73      0.73      1160\n",
      "\n"
     ]
    }
   ],
   "source": [
    "print(model_score_r_pca)\n",
    "print(metrics.classification_report(yr_test1, yr_predict_pca))"
   ]
  },
  {
   "cell_type": "markdown",
   "metadata": {},
   "source": [
    "##### With PCA, we couldn't see any better results, hence let's finalise the model which was created by RF Classifier, and save the model so that we can use it in a later stage :)"
   ]
  },
  {
   "cell_type": "code",
   "execution_count": null,
   "metadata": {},
   "outputs": [],
   "source": []
  },
  {
   "cell_type": "markdown",
   "metadata": {},
   "source": [
    "#### Pickling the model"
   ]
  },
  {
   "cell_type": "code",
   "execution_count": 44,
   "metadata": {},
   "outputs": [],
   "source": [
    "import pickle"
   ]
  },
  {
   "cell_type": "code",
   "execution_count": 45,
   "metadata": {},
   "outputs": [],
   "source": [
    "filename = 'model.sav'"
   ]
  },
  {
   "cell_type": "code",
   "execution_count": 46,
   "metadata": {},
   "outputs": [],
   "source": [
    "pickle.dump(model_rf_smote, open(filename, 'wb'))"
   ]
  },
  {
   "cell_type": "code",
   "execution_count": 47,
   "metadata": {},
   "outputs": [],
   "source": [
    "load_model = pickle.load(open(filename, 'rb'))"
   ]
  },
  {
   "cell_type": "code",
   "execution_count": 48,
   "metadata": {},
   "outputs": [],
   "source": [
    "model_score_r1 = load_model.score(xr_test1, yr_test1)"
   ]
  },
  {
   "cell_type": "code",
   "execution_count": 49,
   "metadata": {},
   "outputs": [
    {
     "data": {
      "text/plain": [
       "0.9241379310344827"
      ]
     },
     "execution_count": 49,
     "metadata": {},
     "output_type": "execute_result"
    }
   ],
   "source": [
    "model_score_r1"
   ]
  },
  {
   "cell_type": "markdown",
   "metadata": {},
   "source": [
    "##### Our final model i.e. RF Classifier with SMOTEENN, is now ready and dumped in model.sav, which we will use and prepare API's so that we can access our model from UI."
   ]
  }
 ],
 "metadata": {
  "kernelspec": {
   "display_name": "Python 3 (ipykernel)",
   "language": "python",
   "name": "python3"
  },
  "language_info": {
   "codemirror_mode": {
    "name": "ipython",
    "version": 3
   },
   "file_extension": ".py",
   "mimetype": "text/x-python",
   "name": "python",
   "nbconvert_exporter": "python",
   "pygments_lexer": "ipython3",
   "version": "3.11.7"
  }
 },
 "nbformat": 4,
 "nbformat_minor": 4
}
